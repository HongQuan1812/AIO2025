{
 "cells": [
  {
   "cell_type": "markdown",
   "metadata": {},
   "source": [
    "# Dataset"
   ]
  },
  {
   "cell_type": "code",
   "execution_count": 1,
   "metadata": {},
   "outputs": [],
   "source": [
    "import pandas as pd\n",
    "import numpy as np\n",
    "import seaborn as sns"
   ]
  },
  {
   "cell_type": "code",
   "execution_count": 5,
   "metadata": {},
   "outputs": [
    {
     "data": {
      "text/html": [
       "<div>\n",
       "<style scoped>\n",
       "    .dataframe tbody tr th:only-of-type {\n",
       "        vertical-align: middle;\n",
       "    }\n",
       "\n",
       "    .dataframe tbody tr th {\n",
       "        vertical-align: top;\n",
       "    }\n",
       "\n",
       "    .dataframe thead th {\n",
       "        text-align: right;\n",
       "    }\n",
       "</style>\n",
       "<table border=\"1\" class=\"dataframe\">\n",
       "  <thead>\n",
       "    <tr style=\"text-align: right;\">\n",
       "      <th></th>\n",
       "      <th>TOEFL Score</th>\n",
       "      <th>CGPA</th>\n",
       "      <th>Chance of Admit</th>\n",
       "    </tr>\n",
       "  </thead>\n",
       "  <tbody>\n",
       "    <tr>\n",
       "      <th>0</th>\n",
       "      <td>118</td>\n",
       "      <td>9.65</td>\n",
       "      <td>0.92</td>\n",
       "    </tr>\n",
       "    <tr>\n",
       "      <th>1</th>\n",
       "      <td>107</td>\n",
       "      <td>8.87</td>\n",
       "      <td>0.76</td>\n",
       "    </tr>\n",
       "    <tr>\n",
       "      <th>2</th>\n",
       "      <td>104</td>\n",
       "      <td>8.00</td>\n",
       "      <td>0.72</td>\n",
       "    </tr>\n",
       "    <tr>\n",
       "      <th>3</th>\n",
       "      <td>110</td>\n",
       "      <td>8.67</td>\n",
       "      <td>0.80</td>\n",
       "    </tr>\n",
       "    <tr>\n",
       "      <th>4</th>\n",
       "      <td>103</td>\n",
       "      <td>8.21</td>\n",
       "      <td>0.65</td>\n",
       "    </tr>\n",
       "  </tbody>\n",
       "</table>\n",
       "</div>"
      ],
      "text/plain": [
       "   TOEFL Score  CGPA  Chance of Admit\n",
       "0          118  9.65             0.92\n",
       "1          107  8.87             0.76\n",
       "2          104  8.00             0.72\n",
       "3          110  8.67             0.80\n",
       "4          103  8.21             0.65"
      ]
     },
     "execution_count": 5,
     "metadata": {},
     "output_type": "execute_result"
    }
   ],
   "source": [
    "data = pd.read_csv('/Users/thuyduc/Python Learning/Applied Data Science Michigan/Resources/Course 1/Module 1/Datasets/Admission_Predict.csv')\n",
    "\n",
    "data.columns = data.columns.str.strip()\n",
    "\n",
    "data = data[['TOEFL Score','CGPA', 'Chance of Admit']].copy()\n",
    "data = data.dropna()\n",
    "data.head()\n"
   ]
  },
  {
   "cell_type": "markdown",
   "metadata": {},
   "source": [
    "# MSE"
   ]
  },
  {
   "cell_type": "code",
   "execution_count": 28,
   "metadata": {},
   "outputs": [
    {
     "data": {
      "text/plain": [
       "((400, 3), (400,), (3,))"
      ]
     },
     "execution_count": 28,
     "metadata": {},
     "output_type": "execute_result"
    }
   ],
   "source": [
    "X = data[['TOEFL Score','CGPA']].to_numpy()\n",
    "X = np.array([np.ones(X.shape[0]), X[:,0], X[:,1]]).T\n",
    "y = data['Chance of Admit'].to_numpy()\n",
    "w = np.random.rand(3)\n",
    "X.shape, y.shape, w.shape"
   ]
  },
  {
   "cell_type": "code",
   "execution_count": null,
   "metadata": {},
   "outputs": [
    {
     "data": {
      "text/plain": [
       "(array([  202.42644492, 21810.85798694,  1746.33238562]),\n",
       " array([  202.42644678, 21810.86956261,  1746.33246206]))"
      ]
     },
     "execution_count": 35,
     "metadata": {},
     "output_type": "execute_result"
    }
   ],
   "source": [
    "def calculate_y_hat(w, X):\n",
    "    y_hat = np.dot(X, w)\n",
    "    return y_hat\n",
    "\n",
    "def calculate_loss_MSE(y, y_hat):\n",
    "    loss = np.mean((y - y_hat)**2)\n",
    "    return loss\n",
    "\n",
    "def calculate_GD_MSE(w, X, y):\n",
    "    y_hat = calculate_y_hat(w, X)\n",
    "    dldw = -2 * np.mean((y - y_hat) * X.T, axis=1)\n",
    "    return dldw\n",
    "\n",
    "def calculate_GD(w, X, y, calculate_y_hat, calculate_loss):\n",
    "    delta_w = 0.000001\n",
    "\n",
    "    dldw = []\n",
    "    y_hat = calculate_y_hat(w, X)\n",
    "    loss = calculate_loss(y, y_hat)\n",
    "    \n",
    "\n",
    "    for i in range(len(w)):\n",
    "        w_delta = w.copy()\n",
    "        \n",
    "        w_delta[i] = w_delta[i] + delta_w\n",
    "\n",
    "        y_hat_delta = calculate_y_hat(w_delta, X)\n",
    "\n",
    "        loss_delta = calculate_loss(y, y_hat_delta)\n",
    "\n",
    "        loss_diff = (loss_delta - loss) / delta_w\n",
    "\n",
    "        dldw.append(loss_diff)\n",
    "\n",
    "    return np.array(dldw)\n",
    "\n",
    "y_hat = calculate_y_hat(w, X)\n",
    "loss = calculate_loss_MSE(y, y_hat)\n",
    "gd = calculate_GD(w, X, y, calculate_y_hat, calculate_loss_MSE)\n",
    "gd\n",
    "calculate_GD_MSE(w, X, y), gd\n"
   ]
  },
  {
   "cell_type": "markdown",
   "metadata": {},
   "source": [
    "# MAE"
   ]
  },
  {
   "cell_type": "code",
   "execution_count": null,
   "metadata": {},
   "outputs": [],
   "source": [
    "X = data[['TOEFL Score','CGPA']].to_numpy()\n",
    "X = np.array([np.ones(X.shape[0]), X[:,0], X[:,1]]).T\n",
    "y = data['Chance of Admit'].to_numpy()\n",
    "w = np.random.rand(3)\n",
    "X.shape, y.shape, w.shape"
   ]
  },
  {
   "cell_type": "code",
   "execution_count": 36,
   "metadata": {},
   "outputs": [
    {
     "data": {
      "text/plain": [
       "array([  1.00000003, 107.41      ,   8.59892499])"
      ]
     },
     "execution_count": 36,
     "metadata": {},
     "output_type": "execute_result"
    }
   ],
   "source": [
    "def calculate_y_hat(w, X):\n",
    "    y_hat = np.dot(X, w)\n",
    "    return y_hat\n",
    "\n",
    "def calculate_loss_MAE(y, y_hat):\n",
    "    loss = np.mean(np.abs(y - y_hat))\n",
    "    return loss\n",
    "\n",
    "gd = calculate_GD(w, X, y, calculate_y_hat, calculate_loss_MAE)\n",
    "gd"
   ]
  },
  {
   "cell_type": "markdown",
   "metadata": {},
   "source": [
    "# Huber Loss"
   ]
  },
  {
   "cell_type": "code",
   "execution_count": null,
   "metadata": {},
   "outputs": [
    {
     "data": {
      "text/plain": [
       "((400, 3), (400,), (3,))"
      ]
     },
     "execution_count": 37,
     "metadata": {},
     "output_type": "execute_result"
    }
   ],
   "source": [
    "X = data[['TOEFL Score','CGPA']].to_numpy()\n",
    "X = np.array([np.ones(X.shape[0]), X[:,0], X[:,1]]).T\n",
    "y = data['Chance of Admit'].to_numpy()\n",
    "w = np.random.rand(3)\n",
    "threshold = 0.001\n",
    "X.shape, y.shape, w.shape"
   ]
  },
  {
   "cell_type": "code",
   "execution_count": null,
   "metadata": {},
   "outputs": [],
   "source": [
    "def calculate_y_hat(w, X):\n",
    "    y_hat = np.dot(X, w)\n",
    "    return y_hat\n",
    "\n",
    "def calculate_huber_loss(y, y_hat, threshold):\n",
    "    if np.abs(y - y_hat) <= threshold:\n",
    "        cost = 0.5 * (y - y_hat)**2\n",
    "        loss = np.mean(cost)\n",
    "    else:\n",
    "        cost = threshold * (np.abs(y - y_hat) - 0.5 * threshold)\n",
    "        loss = np.mean(cost)\n",
    "    \n",
    "    return loss\n",
    "\n",
    "def calculate_GD"
   ]
  }
 ],
 "metadata": {
  "kernelspec": {
   "display_name": "my_env",
   "language": "python",
   "name": "python3"
  },
  "language_info": {
   "codemirror_mode": {
    "name": "ipython",
    "version": 3
   },
   "file_extension": ".py",
   "mimetype": "text/x-python",
   "name": "python",
   "nbconvert_exporter": "python",
   "pygments_lexer": "ipython3",
   "version": "3.12.2"
  }
 },
 "nbformat": 4,
 "nbformat_minor": 2
}
