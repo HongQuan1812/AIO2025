{
 "cells": [
  {
   "cell_type": "markdown",
   "metadata": {},
   "source": [
    "# Dataset"
   ]
  },
  {
   "cell_type": "code",
   "execution_count": null,
   "metadata": {},
   "outputs": [],
   "source": [
    "import pandas as pd\n",
    "import numpy as np\n",
    "import seaborn as sns\n",
    "import matplotlib.pyplot as plt"
   ]
  },
  {
   "cell_type": "code",
   "execution_count": null,
   "metadata": {},
   "outputs": [],
   "source": [
    "data = pd.read_csv('Datasets/Admission_Predict.csv')\n",
    "\n",
    "data.columns = data.columns.str.strip()"
   ]
  },
  {
   "cell_type": "code",
   "execution_count": 10,
   "metadata": {},
   "outputs": [
    {
     "data": {
      "text/html": [
       "<div>\n",
       "<style scoped>\n",
       "    .dataframe tbody tr th:only-of-type {\n",
       "        vertical-align: middle;\n",
       "    }\n",
       "\n",
       "    .dataframe tbody tr th {\n",
       "        vertical-align: top;\n",
       "    }\n",
       "\n",
       "    .dataframe thead th {\n",
       "        text-align: right;\n",
       "    }\n",
       "</style>\n",
       "<table border=\"1\" class=\"dataframe\">\n",
       "  <thead>\n",
       "    <tr style=\"text-align: right;\">\n",
       "      <th></th>\n",
       "      <th>GRE Score</th>\n",
       "      <th>TOEFL Score</th>\n",
       "      <th>CGPA</th>\n",
       "      <th>Chance of Admit</th>\n",
       "    </tr>\n",
       "  </thead>\n",
       "  <tbody>\n",
       "    <tr>\n",
       "      <th>0</th>\n",
       "      <td>1.762107</td>\n",
       "      <td>1.746971</td>\n",
       "      <td>1.764818</td>\n",
       "      <td>1.373648</td>\n",
       "    </tr>\n",
       "    <tr>\n",
       "      <th>1</th>\n",
       "      <td>0.627656</td>\n",
       "      <td>-0.067635</td>\n",
       "      <td>0.455151</td>\n",
       "      <td>0.250297</td>\n",
       "    </tr>\n",
       "    <tr>\n",
       "      <th>2</th>\n",
       "      <td>-0.070467</td>\n",
       "      <td>-0.562528</td>\n",
       "      <td>-1.005631</td>\n",
       "      <td>-0.030541</td>\n",
       "    </tr>\n",
       "    <tr>\n",
       "      <th>3</th>\n",
       "      <td>0.453126</td>\n",
       "      <td>0.427257</td>\n",
       "      <td>0.119339</td>\n",
       "      <td>0.531135</td>\n",
       "    </tr>\n",
       "    <tr>\n",
       "      <th>4</th>\n",
       "      <td>-0.244998</td>\n",
       "      <td>-0.727492</td>\n",
       "      <td>-0.653029</td>\n",
       "      <td>-0.522007</td>\n",
       "    </tr>\n",
       "  </tbody>\n",
       "</table>\n",
       "</div>"
      ],
      "text/plain": [
       "   GRE Score  TOEFL Score      CGPA  Chance of Admit\n",
       "0   1.762107     1.746971  1.764818         1.373648\n",
       "1   0.627656    -0.067635  0.455151         0.250297\n",
       "2  -0.070467    -0.562528 -1.005631        -0.030541\n",
       "3   0.453126     0.427257  0.119339         0.531135\n",
       "4  -0.244998    -0.727492 -0.653029        -0.522007"
      ]
     },
     "execution_count": 10,
     "metadata": {},
     "output_type": "execute_result"
    }
   ],
   "source": [
    "from sklearn.preprocessing import StandardScaler\n",
    "scaler = StandardScaler()\n",
    "df_standard = data[['GRE Score', 'TOEFL Score', 'CGPA', 'Chance of Admit']]\n",
    "df_standard = df_standard.dropna()\n",
    "df_standard = scaler.fit_transform(df_standard)\n",
    "df_standard = pd.DataFrame(df_standard, columns=['GRE Score', 'TOEFL Score', 'CGPA', 'Chance of Admit'])\n",
    "df_standard.head()"
   ]
  },
  {
   "cell_type": "code",
   "execution_count": 11,
   "metadata": {},
   "outputs": [
    {
     "data": {
      "text/html": [
       "<div>\n",
       "<style scoped>\n",
       "    .dataframe tbody tr th:only-of-type {\n",
       "        vertical-align: middle;\n",
       "    }\n",
       "\n",
       "    .dataframe tbody tr th {\n",
       "        vertical-align: top;\n",
       "    }\n",
       "\n",
       "    .dataframe thead th {\n",
       "        text-align: right;\n",
       "    }\n",
       "</style>\n",
       "<table border=\"1\" class=\"dataframe\">\n",
       "  <thead>\n",
       "    <tr style=\"text-align: right;\">\n",
       "      <th></th>\n",
       "      <th>TOEFL Score</th>\n",
       "      <th>CGPA</th>\n",
       "      <th>Chance of Admit</th>\n",
       "    </tr>\n",
       "  </thead>\n",
       "  <tbody>\n",
       "    <tr>\n",
       "      <th>0</th>\n",
       "      <td>118</td>\n",
       "      <td>9.65</td>\n",
       "      <td>0.92</td>\n",
       "    </tr>\n",
       "    <tr>\n",
       "      <th>1</th>\n",
       "      <td>107</td>\n",
       "      <td>8.87</td>\n",
       "      <td>0.76</td>\n",
       "    </tr>\n",
       "    <tr>\n",
       "      <th>2</th>\n",
       "      <td>104</td>\n",
       "      <td>8.00</td>\n",
       "      <td>0.72</td>\n",
       "    </tr>\n",
       "    <tr>\n",
       "      <th>3</th>\n",
       "      <td>110</td>\n",
       "      <td>8.67</td>\n",
       "      <td>0.80</td>\n",
       "    </tr>\n",
       "    <tr>\n",
       "      <th>4</th>\n",
       "      <td>103</td>\n",
       "      <td>8.21</td>\n",
       "      <td>0.65</td>\n",
       "    </tr>\n",
       "  </tbody>\n",
       "</table>\n",
       "</div>"
      ],
      "text/plain": [
       "   TOEFL Score  CGPA  Chance of Admit\n",
       "0          118  9.65             0.92\n",
       "1          107  8.87             0.76\n",
       "2          104  8.00             0.72\n",
       "3          110  8.67             0.80\n",
       "4          103  8.21             0.65"
      ]
     },
     "execution_count": 11,
     "metadata": {},
     "output_type": "execute_result"
    }
   ],
   "source": [
    "df = data[['TOEFL Score', 'CGPA', 'Chance of Admit']]\n",
    "df = df.dropna()\n",
    "df.isnull().sum()\n",
    "df.head()"
   ]
  },
  {
   "cell_type": "markdown",
   "metadata": {},
   "source": [
    "# MBE (Mean Bias Error)"
   ]
  },
  {
   "cell_type": "code",
   "execution_count": 242,
   "metadata": {},
   "outputs": [],
   "source": [
    "x = df[['TOEFL Score', 'CGPA']].values\n",
    "y = df[['Chance of Admit']].values.squeeze()\n",
    "\n",
    "x = np.c_[np.ones(x.shape[0]), x]\n",
    "w = np.random.rand(3)\n"
   ]
  },
  {
   "cell_type": "code",
   "execution_count": 243,
   "metadata": {},
   "outputs": [
    {
     "name": "stdout",
     "output_type": "stream",
     "text": [
      "(400, 3)\n",
      "(400,)\n",
      "(3,)\n"
     ]
    }
   ],
   "source": [
    "print(x.shape)\n",
    "print(y.shape)\n",
    "print(w.shape)"
   ]
  },
  {
   "cell_type": "code",
   "execution_count": 244,
   "metadata": {},
   "outputs": [
    {
     "name": "stdout",
     "output_type": "stream",
     "text": [
      "(400,)\n"
     ]
    }
   ],
   "source": [
    "def calculate_y_hat(x, w):\n",
    "    y_hat = np.dot(x, w)\n",
    "    return y_hat\n",
    "\n",
    "y_hat = calculate_y_hat(x, w)\n",
    "print(y_hat.shape)\n",
    "# y_hat"
   ]
  },
  {
   "cell_type": "code",
   "execution_count": 245,
   "metadata": {},
   "outputs": [
    {
     "data": {
      "text/plain": [
       "((), -110.06986879761929)"
      ]
     },
     "execution_count": 245,
     "metadata": {},
     "output_type": "execute_result"
    }
   ],
   "source": [
    "def calculate_loss_MBE(y, y_hat):\n",
    "    loss = np.sum(y - y_hat, axis = 0) / y.shape[0]\n",
    "    return loss\n",
    "\n",
    "loss = calculate_loss_MBE(y, y_hat)\n",
    "loss.shape, loss"
   ]
  },
  {
   "cell_type": "code",
   "execution_count": 246,
   "metadata": {},
   "outputs": [
    {
     "data": {
      "text/plain": [
       "array([  -1.      , -107.41    ,   -8.598925])"
      ]
     },
     "execution_count": 246,
     "metadata": {},
     "output_type": "execute_result"
    }
   ],
   "source": [
    "def calculate_GD_MBE(x):\n",
    "    dldw = np.sum(-x, axis = 0) / x.shape[0]\n",
    "    return dldw\n",
    "\n",
    "dldw = calculate_GD_MBE(x)\n",
    "dldw"
   ]
  },
  {
   "cell_type": "code",
   "execution_count": 247,
   "metadata": {},
   "outputs": [
    {
     "data": {
      "text/plain": [
       "((3,), array([  -0.9993073 , -107.4100453 ,   -8.59884608]))"
      ]
     },
     "execution_count": 247,
     "metadata": {},
     "output_type": "execute_result"
    }
   ],
   "source": [
    "def calculate_GD_flex(w, x, y, y_hat_function, loss_function, epsilon=1e-10):\n",
    "    delta_w = np.eye(len(w)) * epsilon\n",
    "\n",
    "    y_hat_w_delta = y_hat_function(x, (w + delta_w).T)\n",
    "    loss1 = loss_function(y.reshape(-1, 1), y_hat_w_delta)\n",
    "    \n",
    "    y_hat_w = y_hat_function(x, w)\n",
    "    loss2 = loss_function(y, y_hat_w)\n",
    "\n",
    "    loss_diff = loss1 - loss2\n",
    "    GD = loss_diff / np.diagonal(delta_w)\n",
    "\n",
    "    return GD\n",
    "\n",
    "GD = calculate_GD_flex(w, x, y, calculate_y_hat, calculate_loss_MBE)    \n",
    "GD.shape, GD"
   ]
  },
  {
   "cell_type": "code",
   "execution_count": null,
   "metadata": {},
   "outputs": [
    {
     "data": {
      "text/plain": [
       "((3,), array([  -0.99987574, -107.4100453 ,   -8.59884608]))"
      ]
     },
     "execution_count": 249,
     "metadata": {},
     "output_type": "execute_result"
    }
   ],
   "source": [
    "# def calculate_GD_flex(w, x, y, y_hat_function, loss_function, epsilon=1e-10):\n",
    "#     dldw = []\n",
    "#     base_loss = loss_function(y, y_hat_function(x, w))\n",
    "    \n",
    "#     for i in range(len(w)):\n",
    "#         w_delta = np.copy(w)\n",
    "#         w_delta[i] += epsilon\n",
    "#         delta_loss = loss_function(y, y_hat_function(x, w_delta))\n",
    "#         derivative = (delta_loss - base_loss) / epsilon\n",
    "#         dldw.append(derivative)\n",
    "        \n",
    "#     return np.array(dldw)\n",
    "\n",
    "# GD = calculate_GD_flex(w, x, y, calculate_y_hat, calculate_loss_MBE)    \n",
    "# GD.shape, GD"
   ]
  },
  {
   "cell_type": "code",
   "execution_count": 199,
   "metadata": {},
   "outputs": [],
   "source": [
    "def update_weights(w, dldw, learning_rate):\n",
    "    w = w - learning_rate * dldw\n",
    "    return w"
   ]
  },
  {
   "cell_type": "markdown",
   "metadata": {},
   "source": [
    "## Optimization (Mini Batch)"
   ]
  },
  {
   "cell_type": "markdown",
   "metadata": {},
   "source": [
    "### Mini-batch"
   ]
  },
  {
   "cell_type": "code",
   "execution_count": 200,
   "metadata": {},
   "outputs": [],
   "source": [
    "X = df[['TOEFL Score', 'CGPA']].values\n",
    "y = df[['Chance of Admit']].values.squeeze()\n",
    "\n",
    "X = np.c_[np.ones(X.shape[0]), X]\n",
    "w = np.random.rand(3)\n"
   ]
  },
  {
   "cell_type": "code",
   "execution_count": 201,
   "metadata": {},
   "outputs": [
    {
     "name": "stdout",
     "output_type": "stream",
     "text": [
      "(400, 3)\n",
      "(400,)\n",
      "(3,)\n"
     ]
    }
   ],
   "source": [
    "print(X.shape)\n",
    "print(y.shape)\n",
    "print(w.shape)"
   ]
  },
  {
   "cell_type": "markdown",
   "metadata": {},
   "source": [
    "## Manual Derivative"
   ]
  },
  {
   "cell_type": "code",
   "execution_count": 202,
   "metadata": {},
   "outputs": [
    {
     "name": "stdout",
     "output_type": "stream",
     "text": [
      "Epoch: 1 Loss: -355648.4714540079\n",
      "Epoch: 2 Loss: -714934.3981415085\n",
      "Epoch: 3 Loss: -1074220.324829009\n",
      "Epoch: 4 Loss: -1433506.251516508\n",
      "Epoch: 5 Loss: -1792792.1782040074\n",
      "Epoch: 6 Loss: -2152078.104891505\n",
      "Epoch: 7 Loss: -2511364.031579003\n",
      "Epoch: 8 Loss: -2870649.958266501\n",
      "Epoch: 9 Loss: -3229935.884953999\n",
      "Epoch: 10 Loss: -3589221.811641497\n",
      "Epoch: 11 Loss: -3948507.738328999\n",
      "Epoch: 12 Loss: -4307793.665016502\n",
      "Epoch: 13 Loss: -4667079.591704004\n",
      "Epoch: 14 Loss: -5026365.518391507\n",
      "Epoch: 15 Loss: -5385651.44507901\n",
      "Epoch: 16 Loss: -5744937.371766513\n",
      "Epoch: 17 Loss: -6104223.2984540155\n",
      "Epoch: 18 Loss: -6463509.225141518\n",
      "Epoch: 19 Loss: -6822795.151829021\n",
      "Epoch: 20 Loss: -7182081.078516523\n",
      "Epoch: 21 Loss: -7541367.005204031\n",
      "Epoch: 22 Loss: -7900652.93189154\n",
      "Epoch: 23 Loss: -8259938.858579049\n",
      "Epoch: 24 Loss: -8619224.785266556\n",
      "Epoch: 25 Loss: -8978510.711954065\n",
      "Epoch: 26 Loss: -9337796.638641573\n",
      "Epoch: 27 Loss: -9697082.565329082\n",
      "Epoch: 28 Loss: -10056368.492016591\n",
      "Epoch: 29 Loss: -10415654.418704098\n",
      "Epoch: 30 Loss: -10774940.345391607\n",
      "Epoch: 31 Loss: -11134226.272079116\n",
      "Epoch: 32 Loss: -11493512.198766625\n",
      "Epoch: 33 Loss: -11852798.125454133\n",
      "Epoch: 34 Loss: -12212084.05214164\n",
      "Epoch: 35 Loss: -12571369.97882915\n",
      "Epoch: 36 Loss: -12930655.905516658\n",
      "Epoch: 37 Loss: -13289941.832204167\n",
      "Epoch: 38 Loss: -13649227.758891674\n",
      "Epoch: 39 Loss: -14008513.685579183\n",
      "Epoch: 40 Loss: -14367799.61226669\n",
      "Epoch: 41 Loss: -14727085.538954198\n",
      "Epoch: 42 Loss: -15086371.465641687\n",
      "Epoch: 43 Loss: -15445657.392329175\n",
      "Epoch: 44 Loss: -15804943.319016665\n",
      "Epoch: 45 Loss: -16164229.245704152\n",
      "Epoch: 46 Loss: -16523515.172391642\n",
      "Epoch: 47 Loss: -16882801.099079132\n",
      "Epoch: 48 Loss: -17242087.02576662\n",
      "Epoch: 49 Loss: -17601372.95245411\n",
      "Epoch: 50 Loss: -17960658.8791416\n",
      "Epoch: 51 Loss: -18319944.805829085\n",
      "Epoch: 52 Loss: -18679230.73251658\n",
      "Epoch: 53 Loss: -19038516.659204066\n",
      "Epoch: 54 Loss: -19397802.585891552\n",
      "Epoch: 55 Loss: -19757088.512579042\n",
      "Epoch: 56 Loss: -20116374.439266533\n",
      "Epoch: 57 Loss: -20475660.36595402\n",
      "Epoch: 58 Loss: -20834946.29264151\n",
      "Epoch: 59 Loss: -21194232.219329\n",
      "Epoch: 60 Loss: -21553518.146016486\n",
      "Epoch: 61 Loss: -21912804.07270398\n",
      "Epoch: 62 Loss: -22272089.999391466\n",
      "Epoch: 63 Loss: -22631375.926078953\n",
      "Epoch: 64 Loss: -22990661.852766447\n",
      "Epoch: 65 Loss: -23349947.779453933\n",
      "Epoch: 66 Loss: -23709233.706141423\n",
      "Epoch: 67 Loss: -24068519.632828914\n",
      "Epoch: 68 Loss: -24427805.5595164\n",
      "Epoch: 69 Loss: -24787091.486203894\n",
      "Epoch: 70 Loss: -25146377.412891377\n",
      "Epoch: 71 Loss: -25505663.33957887\n",
      "Epoch: 72 Loss: -25864949.26626636\n",
      "Epoch: 73 Loss: -26224235.192953847\n",
      "Epoch: 74 Loss: -26583521.119641338\n",
      "Epoch: 75 Loss: -26942807.046328828\n",
      "Epoch: 76 Loss: -27302092.973016314\n",
      "Epoch: 77 Loss: -27661378.8997038\n",
      "Epoch: 78 Loss: -28020664.826391295\n",
      "Epoch: 79 Loss: -28379950.75307878\n",
      "Epoch: 80 Loss: -28739236.679766268\n",
      "Epoch: 81 Loss: -29098522.60645376\n",
      "Epoch: 82 Loss: -29457808.53314123\n",
      "Epoch: 83 Loss: -29817094.459828705\n",
      "Epoch: 84 Loss: -30176380.38651617\n",
      "Epoch: 85 Loss: -30535666.313203633\n",
      "Epoch: 86 Loss: -30894952.239891097\n",
      "Epoch: 87 Loss: -31254238.16657857\n",
      "Epoch: 88 Loss: -31613524.093266033\n",
      "Epoch: 89 Loss: -31972810.0199535\n",
      "Epoch: 90 Loss: -32332095.94664097\n",
      "Epoch: 91 Loss: -32691381.87332844\n",
      "Epoch: 92 Loss: -33050667.800015904\n",
      "Epoch: 93 Loss: -33409953.726703368\n",
      "Epoch: 94 Loss: -33769239.65339083\n",
      "Epoch: 95 Loss: -34128525.5800783\n",
      "Epoch: 96 Loss: -34487811.50676577\n",
      "Epoch: 97 Loss: -34847097.43345323\n",
      "Epoch: 98 Loss: -35206383.360140696\n",
      "Epoch: 99 Loss: -35565669.28682816\n",
      "Epoch: 100 Loss: -35924955.213515624\n"
     ]
    },
    {
     "data": {
      "text/plain": [
       "[<matplotlib.lines.Line2D at 0x140812e50>]"
      ]
     },
     "execution_count": 202,
     "metadata": {},
     "output_type": "execute_result"
    },
    {
     "data": {
      "image/png": "[encoded data removed]",
      "text/plain": [
       "<Figure size 640x480 with 1 Axes>"
      ]
     },
     "metadata": {},
     "output_type": "display_data"
    }
   ],
   "source": [
    "batch_size = 4\n",
    "epochs = 100\n",
    "learning_rate = 0.3\n",
    "losses = []\n",
    "\n",
    "for epoch in range(epochs):\n",
    "    for i in range(0, X.shape[0], batch_size):\n",
    "        X_batch = X[i:i+batch_size, :]\n",
    "        y_batch = y[i:i+batch_size]\n",
    "\n",
    "        # Calculate y_hat\n",
    "        y_hat = calculate_y_hat(X_batch, w)\n",
    "\n",
    "        # Calculate cost\n",
    "        loss = calculate_loss_MBE(y_batch, y_hat)\n",
    "\n",
    "        # Calculate gradient\n",
    "        dldw = calculate_GD_MBE(X_batch)\n",
    "\n",
    "        # Update weights\n",
    "        w = w - learning_rate * dldw\n",
    "    \n",
    "    losses.append(loss)\n",
    "    print(f'Epoch: {epoch+1} Loss: {loss}')\n",
    "\n",
    "plt.plot(losses)\n",
    "\n"
   ]
  },
  {
   "cell_type": "markdown",
   "metadata": {},
   "source": [
    "## Using Definition of Derivative"
   ]
  },
  {
   "cell_type": "code",
   "execution_count": 203,
   "metadata": {},
   "outputs": [],
   "source": [
    "X = df[['TOEFL Score', 'CGPA']].values\n",
    "y = df[['Chance of Admit']].values.squeeze()\n",
    "\n",
    "X = np.c_[np.ones(X.shape[0]), X]\n",
    "w = np.random.rand(3)"
   ]
  },
  {
   "cell_type": "code",
   "execution_count": 204,
   "metadata": {},
   "outputs": [
    {
     "name": "stdout",
     "output_type": "stream",
     "text": [
      "Epoch: 1 Loss: -355905.803955229\n",
      "Epoch: 2 Loss: -715794.1671191474\n",
      "Epoch: 3 Loss: -1074890.6150563378\n",
      "Epoch: 4 Loss: -1434650.717639433\n",
      "Epoch: 5 Loss: -1794286.7505932914\n",
      "Epoch: 6 Loss: -2146865.3956996966\n",
      "Epoch: 7 Loss: -2498882.802539574\n",
      "Epoch: 8 Loss: -2851186.0672021974\n",
      "Epoch: 9 Loss: -3203525.3041992653\n",
      "Epoch: 10 Loss: -3555363.023989903\n",
      "Epoch: 11 Loss: -3918959.156946348\n",
      "Epoch: 12 Loss: -4285668.119193124\n",
      "Epoch: 13 Loss: -4652576.500886189\n",
      "Epoch: 14 Loss: -5019149.606452392\n",
      "Epoch: 15 Loss: -5385709.789917873\n",
      "Epoch: 16 Loss: -5753871.615381049\n",
      "Epoch: 17 Loss: -6119847.161100315\n",
      "Epoch: 18 Loss: -6485281.375573086\n",
      "Epoch: 19 Loss: -6851076.710374163\n",
      "Epoch: 20 Loss: -7216872.045175241\n",
      "Epoch: 21 Loss: -7582667.379976319\n",
      "Epoch: 22 Loss: -7948072.95627992\n",
      "Epoch: 23 Loss: -8313602.165655303\n",
      "Epoch: 24 Loss: -8679470.842109133\n",
      "Epoch: 25 Loss: -9046823.813916255\n",
      "Epoch: 26 Loss: -9412758.847103525\n",
      "Epoch: 27 Loss: -9775805.616156269\n",
      "Epoch: 28 Loss: -10139135.972932983\n",
      "Epoch: 29 Loss: -10502466.329709698\n",
      "Epoch: 30 Loss: -10865796.686486412\n",
      "Epoch: 31 Loss: -11227889.315561462\n",
      "Epoch: 32 Loss: -11590704.185293125\n",
      "Epoch: 33 Loss: -11956871.816293405\n",
      "Epoch: 34 Loss: -12321079.478935407\n",
      "Epoch: 35 Loss: -12685287.14157741\n",
      "Epoch: 36 Loss: -13049546.492622303\n",
      "Epoch: 37 Loss: -13414476.39592092\n",
      "Epoch: 38 Loss: -13779406.299219536\n",
      "Epoch: 39 Loss: -14144336.202518152\n",
      "Epoch: 40 Loss: -14509266.105816768\n",
      "Epoch: 41 Loss: -14836445.314214634\n",
      "Epoch: 42 Loss: -15148152.9263417\n",
      "Epoch: 43 Loss: -15459860.538468765\n",
      "Epoch: 44 Loss: -15772135.326043772\n",
      "Epoch: 45 Loss: -16081367.482767507\n",
      "Epoch: 46 Loss: -16389104.866758987\n",
      "Epoch: 47 Loss: -16703546.37630384\n",
      "Epoch: 48 Loss: -17010148.012415577\n",
      "Epoch: 49 Loss: -17306382.63128798\n",
      "Epoch: 50 Loss: -17606175.368056703\n",
      "Epoch: 51 Loss: -17915457.81619947\n",
      "Epoch: 52 Loss: -18227937.960402176\n",
      "Epoch: 53 Loss: -18538768.266663954\n",
      "Epoch: 54 Loss: -18852382.761762545\n",
      "Epoch: 55 Loss: -19168215.66723387\n",
      "Epoch: 56 Loss: -19477756.557391092\n",
      "Epoch: 57 Loss: -19788431.798444197\n",
      "Epoch: 58 Loss: -20097765.934989855\n",
      "Epoch: 59 Loss: -20407100.071535513\n",
      "Epoch: 60 Loss: -20716434.20808117\n",
      "Epoch: 61 Loss: -21027006.072328493\n",
      "Epoch: 62 Loss: -21337577.936575815\n",
      "Epoch: 63 Loss: -21648046.424017355\n",
      "Epoch: 64 Loss: -21958514.911458895\n",
      "Epoch: 65 Loss: -22268983.398900434\n",
      "Epoch: 66 Loss: -22579451.886341974\n",
      "Epoch: 67 Loss: -22888682.64608185\n",
      "Epoch: 68 Loss: -23200388.861225054\n",
      "Epoch: 69 Loss: -23509619.62096493\n",
      "Epoch: 70 Loss: -23820191.48521225\n",
      "Epoch: 71 Loss: -24134476.532564566\n",
      "Epoch: 72 Loss: -24448761.57991688\n",
      "Epoch: 73 Loss: -24763046.627269194\n",
      "Epoch: 74 Loss: -25079703.753219053\n",
      "Epoch: 75 Loss: -25397598.606870577\n",
      "Epoch: 76 Loss: -25715493.4605221\n",
      "Epoch: 77 Loss: -26033388.314173624\n",
      "Epoch: 78 Loss: -26351283.167825148\n",
      "Epoch: 79 Loss: -26669178.02147667\n",
      "Epoch: 80 Loss: -26987072.875128195\n",
      "Epoch: 81 Loss: -27304967.72877972\n",
      "Epoch: 82 Loss: -27622862.582431242\n",
      "Epoch: 83 Loss: -27940757.436082765\n",
      "Epoch: 84 Loss: -28258652.28973429\n",
      "Epoch: 85 Loss: -28576547.143385813\n",
      "Epoch: 86 Loss: -28894441.997037336\n",
      "Epoch: 87 Loss: -29212336.85068886\n",
      "Epoch: 88 Loss: -29611508.225427072\n",
      "Epoch: 89 Loss: -30021819.149480265\n",
      "Epoch: 90 Loss: -30432130.073533457\n",
      "Epoch: 91 Loss: -30842440.99758665\n",
      "Epoch: 92 Loss: -31252648.54483406\n",
      "Epoch: 93 Loss: -31662959.46888725\n",
      "Epoch: 94 Loss: -32074611.497447893\n",
      "Epoch: 95 Loss: -32488635.604606077\n",
      "Epoch: 96 Loss: -32905238.54397337\n",
      "Epoch: 97 Loss: -33311629.531310007\n",
      "Epoch: 98 Loss: -33722868.052647516\n",
      "Epoch: 99 Loss: -34128331.442699835\n",
      "Epoch: 100 Loss: -34545347.88929026\n"
     ]
    },
    {
     "data": {
      "text/plain": [
       "[<matplotlib.lines.Line2D at 0x1409e9c90>]"
      ]
     },
     "execution_count": 204,
     "metadata": {},
     "output_type": "execute_result"
    },
    {
     "data": {
      "image/png": "[encoded data removed]",
      "text/plain": [
       "<Figure size 640x480 with 1 Axes>"
      ]
     },
     "metadata": {},
     "output_type": "display_data"
    }
   ],
   "source": [
    "batch_size = 4\n",
    "epochs = 100\n",
    "learning_rate = 0.3\n",
    "losses = []\n",
    "\n",
    "for epoch in range(epochs):\n",
    "    for i in range(0, X.shape[0], batch_size):\n",
    "        X_batch = X[i:i+batch_size, :]\n",
    "        y_batch = y[i:i+batch_size]\n",
    "\n",
    "        # Calculate y_hat\n",
    "        y_hat = calculate_y_hat(X_batch, w)\n",
    "\n",
    "        # Calculate cost\n",
    "        loss = calculate_loss_MBE(y_batch, y_hat)\n",
    "\n",
    "        # Calculate gradient\n",
    "        dldw = calculate_GD_flex(w, X_batch, y_batch, calculate_y_hat, calculate_loss_MBE)\n",
    "\n",
    "        # Update weights\n",
    "        w = w - learning_rate * dldw\n",
    "    \n",
    "    losses.append(loss)\n",
    "    print(f'Epoch: {epoch+1} Loss: {loss}')\n",
    "\n",
    "plt.plot(losses)\n",
    "\n"
   ]
  },
  {
   "cell_type": "markdown",
   "metadata": {},
   "source": [
    "# MSE"
   ]
  },
  {
   "cell_type": "code",
   "execution_count": 205,
   "metadata": {},
   "outputs": [],
   "source": [
    "X = df[['TOEFL Score', 'CGPA']].values\n",
    "y = df[['Chance of Admit']].values.squeeze()\n",
    "\n",
    "X = np.c_[np.ones(X.shape[0]), X]\n",
    "w = np.random.rand(3)\n"
   ]
  },
  {
   "cell_type": "code",
   "execution_count": 206,
   "metadata": {},
   "outputs": [
    {
     "name": "stdout",
     "output_type": "stream",
     "text": [
      "(400, 3)\n",
      "(400,)\n",
      "(3,)\n"
     ]
    }
   ],
   "source": [
    "print(X.shape)\n",
    "print(y.shape)\n",
    "print(w.shape)"
   ]
  },
  {
   "cell_type": "code",
   "execution_count": 207,
   "metadata": {},
   "outputs": [
    {
     "name": "stdout",
     "output_type": "stream",
     "text": [
      "(400,)\n"
     ]
    }
   ],
   "source": [
    "y_hat = calculate_y_hat(X, w)\n",
    "print(y_hat.shape)"
   ]
  },
  {
   "cell_type": "code",
   "execution_count": 208,
   "metadata": {},
   "outputs": [
    {
     "data": {
      "text/plain": [
       "((), 6007.765548229283)"
      ]
     },
     "execution_count": 208,
     "metadata": {},
     "output_type": "execute_result"
    }
   ],
   "source": [
    "def calculate_loss_MSE(y, y_hat):\n",
    "    \"\"\"Calculate loss function.\"\"\"\n",
    "    loss = np.mean((y - y_hat)**2, axis=0)\n",
    "    return loss\n",
    "\n",
    "loss = calculate_loss_MSE(y, y_hat)\n",
    "loss.shape, loss"
   ]
  },
  {
   "cell_type": "code",
   "execution_count": 209,
   "metadata": {},
   "outputs": [
    {
     "data": {
      "text/plain": [
       "array([  154.78211697, 16677.05424968,  1335.34056494])"
      ]
     },
     "execution_count": 209,
     "metadata": {},
     "output_type": "execute_result"
    }
   ],
   "source": [
    "def calculate_GD_MSE(x,y,y_hat):\n",
    "    dldw = np.dot(x.T, -2*(y-y_hat)) / x.shape[0]\n",
    "    return dldw\n",
    "\n",
    "dldw = calculate_GD_MSE(x,y,y_hat)\n",
    "dldw"
   ]
  },
  {
   "cell_type": "code",
   "execution_count": 210,
   "metadata": {},
   "outputs": [
    {
     "data": {
      "text/plain": [
       "array([  154.7687134 , 16677.04964348,  1335.33831104])"
      ]
     },
     "execution_count": 210,
     "metadata": {},
     "output_type": "execute_result"
    }
   ],
   "source": [
    "dldw = calculate_GD_flex(w, X, y, calculate_y_hat, calculate_loss_MSE)\n",
    "dldw"
   ]
  },
  {
   "cell_type": "markdown",
   "metadata": {},
   "source": [
    "## Manual Derivative"
   ]
  },
  {
   "cell_type": "code",
   "execution_count": 211,
   "metadata": {},
   "outputs": [],
   "source": [
    "X = df[['TOEFL Score', 'CGPA']].values\n",
    "y = df[['Chance of Admit']].values.squeeze()\n",
    "\n",
    "X = np.c_[np.ones(X.shape[0]), X]\n",
    "w = np.random.rand(3)"
   ]
  },
  {
   "cell_type": "code",
   "execution_count": 212,
   "metadata": {},
   "outputs": [
    {
     "name": "stdout",
     "output_type": "stream",
     "text": [
      "Epoch: 1 Loss: 0.025786339715321564\n",
      "Epoch: 2 Loss: 0.025783478763608033\n",
      "Epoch: 3 Loss: 0.02578061897067483\n",
      "Epoch: 4 Loss: 0.02577776034087735\n",
      "Epoch: 5 Loss: 0.025774902873708063\n",
      "Epoch: 6 Loss: 0.025772046568659814\n",
      "Epoch: 7 Loss: 0.02576919142522554\n",
      "Epoch: 8 Loss: 0.02576633744289846\n",
      "Epoch: 9 Loss: 0.025763484621171954\n",
      "Epoch: 10 Loss: 0.025760632959539682\n",
      "Epoch: 11 Loss: 0.0257577824574955\n",
      "Epoch: 12 Loss: 0.025754933114533488\n",
      "Epoch: 13 Loss: 0.025752084930147905\n",
      "Epoch: 14 Loss: 0.0257492379038334\n",
      "Epoch: 15 Loss: 0.025746392035084546\n",
      "Epoch: 16 Loss: 0.02574354732339638\n",
      "Epoch: 17 Loss: 0.02574070376826411\n",
      "Epoch: 18 Loss: 0.025737861369183032\n",
      "Epoch: 19 Loss: 0.02573502012564884\n",
      "Epoch: 20 Loss: 0.025732180037157375\n",
      "Epoch: 21 Loss: 0.025729341103204666\n",
      "Epoch: 22 Loss: 0.025726503323286964\n",
      "Epoch: 23 Loss: 0.025723666696900842\n",
      "Epoch: 24 Loss: 0.025720831223542902\n",
      "Epoch: 25 Loss: 0.025717996902710143\n",
      "Epoch: 26 Loss: 0.02571516373389966\n",
      "Epoch: 27 Loss: 0.02571233171660892\n",
      "Epoch: 28 Loss: 0.025709500850335396\n",
      "Epoch: 29 Loss: 0.025706671134577006\n",
      "Epoch: 30 Loss: 0.025703842568831667\n",
      "Epoch: 31 Loss: 0.025701015152597612\n",
      "Epoch: 32 Loss: 0.02569818888537342\n",
      "Epoch: 33 Loss: 0.025695363766657684\n",
      "Epoch: 34 Loss: 0.025692539795949328\n",
      "Epoch: 35 Loss: 0.025689716972747523\n",
      "Epoch: 36 Loss: 0.025686895296551486\n",
      "Epoch: 37 Loss: 0.025684074766860784\n",
      "Epoch: 38 Loss: 0.02568125538317523\n",
      "Epoch: 39 Loss: 0.02567843714499484\n",
      "Epoch: 40 Loss: 0.02567562005181978\n",
      "Epoch: 41 Loss: 0.025672804103150433\n",
      "Epoch: 42 Loss: 0.02566998929848751\n",
      "Epoch: 43 Loss: 0.025667175637331764\n",
      "Epoch: 44 Loss: 0.02566436311918435\n",
      "Epoch: 45 Loss: 0.02566155174354652\n",
      "Epoch: 46 Loss: 0.025658741509919848\n",
      "Epoch: 47 Loss: 0.025655932417805963\n",
      "Epoch: 48 Loss: 0.025653124466706867\n",
      "Epoch: 49 Loss: 0.025650317656124723\n",
      "Epoch: 50 Loss: 0.02564751198556183\n",
      "Epoch: 51 Loss: 0.02564470745452076\n",
      "Epoch: 52 Loss: 0.025641904062504488\n",
      "Epoch: 53 Loss: 0.02563910180901585\n",
      "Epoch: 54 Loss: 0.025636300693558253\n",
      "Epoch: 55 Loss: 0.025633500715635027\n",
      "Epoch: 56 Loss: 0.02563070187474985\n",
      "Epoch: 57 Loss: 0.025627904170406633\n",
      "Epoch: 58 Loss: 0.025625107602109447\n",
      "Epoch: 59 Loss: 0.025622312169362713\n",
      "Epoch: 60 Loss: 0.02561951787167084\n",
      "Epoch: 61 Loss: 0.025616724708538645\n",
      "Epoch: 62 Loss: 0.025613932679471058\n",
      "Epoch: 63 Loss: 0.025611141783973328\n",
      "Epoch: 64 Loss: 0.025608352021550755\n",
      "Epoch: 65 Loss: 0.025605563391708996\n",
      "Epoch: 66 Loss: 0.02560277589395381\n",
      "Epoch: 67 Loss: 0.02559998952779141\n",
      "Epoch: 68 Loss: 0.025597204292727896\n",
      "Epoch: 69 Loss: 0.02559442018826974\n",
      "Epoch: 70 Loss: 0.025591637213923678\n",
      "Epoch: 71 Loss: 0.02558885536919657\n",
      "Epoch: 72 Loss: 0.025586074653595574\n",
      "Epoch: 73 Loss: 0.025583295066628\n",
      "Epoch: 74 Loss: 0.025580516607801355\n",
      "Epoch: 75 Loss: 0.025577739276623435\n",
      "Epoch: 76 Loss: 0.02557496307260221\n",
      "Epoch: 77 Loss: 0.02557218799524582\n",
      "Epoch: 78 Loss: 0.025569414044062738\n",
      "Epoch: 79 Loss: 0.025566641218561524\n",
      "Epoch: 80 Loss: 0.025563869518251035\n",
      "Epoch: 81 Loss: 0.025561098942640307\n",
      "Epoch: 82 Loss: 0.025558329491238485\n",
      "Epoch: 83 Loss: 0.025555561163555188\n",
      "Epoch: 84 Loss: 0.02555279395909994\n",
      "Epoch: 85 Loss: 0.02555002787738286\n",
      "Epoch: 86 Loss: 0.02554726291791385\n",
      "Epoch: 87 Loss: 0.02554449908020333\n",
      "Epoch: 88 Loss: 0.025541736363761787\n",
      "Epoch: 89 Loss: 0.025538974768099982\n",
      "Epoch: 90 Loss: 0.025536214292728898\n",
      "Epoch: 91 Loss: 0.02553345493715963\n",
      "Epoch: 92 Loss: 0.025530696700903653\n",
      "Epoch: 93 Loss: 0.025527939583472464\n",
      "Epoch: 94 Loss: 0.025525183584378008\n",
      "Epoch: 95 Loss: 0.025522428703132163\n",
      "Epoch: 96 Loss: 0.025519674939247252\n",
      "Epoch: 97 Loss: 0.02551692229223565\n",
      "Epoch: 98 Loss: 0.025514170761610073\n",
      "Epoch: 99 Loss: 0.025511420346883425\n",
      "Epoch: 100 Loss: 0.025508671047568703\n"
     ]
    },
    {
     "data": {
      "text/plain": [
       "[<matplotlib.lines.Line2D at 0x140c7b050>]"
      ]
     },
     "execution_count": 212,
     "metadata": {},
     "output_type": "execute_result"
    },
    {
     "data": {
      "image/png": "[encoded data removed]",
      "text/plain": [
       "<Figure size 640x480 with 1 Axes>"
      ]
     },
     "metadata": {},
     "output_type": "display_data"
    }
   ],
   "source": [
    "batch_size = 4\n",
    "epochs = 100\n",
    "learning_rate = 0.00001\n",
    "losses = []\n",
    "\n",
    "for epoch in range(epochs):\n",
    "    for i in range(0, X.shape[0], batch_size):\n",
    "        X_batch = X[i:i+batch_size, :]\n",
    "        y_batch = y[i:i+batch_size]\n",
    "\n",
    "        # Calculate y_hat\n",
    "        y_hat = calculate_y_hat(X_batch, w)\n",
    "\n",
    "        # Calculate cost\n",
    "        loss = calculate_loss_MSE(y_batch, y_hat)\n",
    "\n",
    "        # Calculate gradient\n",
    "        dldw = calculate_GD_MSE(X_batch, y_batch, y_hat)\n",
    "\n",
    "        # Update weights\n",
    "        w = w - learning_rate * dldw\n",
    "    \n",
    "    losses.append(loss)\n",
    "    print(f'Epoch: {epoch+1} Loss: {loss}')\n",
    "\n",
    "plt.plot(losses)\n",
    "\n"
   ]
  },
  {
   "cell_type": "markdown",
   "metadata": {},
   "source": [
    "## Using Definition of Derivative"
   ]
  },
  {
   "cell_type": "code",
   "execution_count": 216,
   "metadata": {},
   "outputs": [],
   "source": [
    "X = df[['TOEFL Score', 'CGPA']].values\n",
    "y = df[['Chance of Admit']].values.squeeze()\n",
    "\n",
    "X = np.c_[np.ones(X.shape[0]), X]\n",
    "w = np.random.rand(3)"
   ]
  },
  {
   "cell_type": "code",
   "execution_count": 217,
   "metadata": {},
   "outputs": [
    {
     "name": "stdout",
     "output_type": "stream",
     "text": [
      "Epoch: 1 Loss: 2526.8906342432765\n",
      "Epoch: 2 Loss: 1588.2505799859018\n",
      "Epoch: 3 Loss: 998.8415404484865\n",
      "Epoch: 4 Loss: 628.6135678786427\n",
      "Epoch: 5 Loss: 395.96989738153627\n",
      "Epoch: 6 Loss: 249.70954720434827\n",
      "Epoch: 7 Loss: 157.70057839268657\n",
      "Epoch: 8 Loss: 99.77502463781771\n",
      "Epoch: 9 Loss: 63.27174751371969\n",
      "Epoch: 10 Loss: 40.24032071150505\n",
      "Epoch: 11 Loss: 25.686812287655936\n",
      "Epoch: 12 Loss: 16.473139981735144\n",
      "Epoch: 13 Loss: 10.626429543086877\n",
      "Epoch: 14 Loss: 6.90559328697625\n",
      "Epoch: 15 Loss: 4.529287885939169\n",
      "Epoch: 16 Loss: 3.0051305639910786\n",
      "Epoch: 17 Loss: 2.0224573061419178\n",
      "Epoch: 18 Loss: 1.3849607147949334\n",
      "Epoch: 19 Loss: 0.96836105119521\n",
      "Epoch: 20 Loss: 0.6937945653259802\n",
      "Epoch: 21 Loss: 0.5110727529731706\n",
      "Epoch: 22 Loss: 0.3881430044111374\n",
      "Epoch: 23 Loss: 0.30444699097052424\n",
      "Epoch: 24 Loss: 0.24673021730232342\n",
      "Epoch: 25 Loss: 0.206394090629425\n",
      "Epoch: 26 Loss: 0.17781955894217288\n",
      "Epoch: 27 Loss: 0.15730335122204442\n",
      "Epoch: 28 Loss: 0.14238101084157856\n",
      "Epoch: 29 Loss: 0.13139455569298608\n",
      "Epoch: 30 Loss: 0.12321518089542603\n",
      "Epoch: 31 Loss: 0.11706447989058556\n",
      "Epoch: 32 Loss: 0.11239846553865848\n",
      "Epoch: 33 Loss: 0.10883178106268088\n",
      "Epoch: 34 Loss: 0.10608775146072559\n",
      "Epoch: 35 Loss: 0.103965144023266\n",
      "Epoch: 36 Loss: 0.10231580662439521\n",
      "Epoch: 37 Loss: 0.10102944328983167\n",
      "Epoch: 38 Loss: 0.10002311683082649\n",
      "Epoch: 39 Loss: 0.09923391148871775\n",
      "Epoch: 40 Loss: 0.0986137362708169\n",
      "Epoch: 41 Loss: 0.09812559399537557\n",
      "Epoch: 42 Loss: 0.09774086718584843\n",
      "Epoch: 43 Loss: 0.09743732008834737\n",
      "Epoch: 44 Loss: 0.09719761188951233\n",
      "Epoch: 45 Loss: 0.09700817783585483\n",
      "Epoch: 46 Loss: 0.09685838073697804\n",
      "Epoch: 47 Loss: 0.09673986287969788\n",
      "Epoch: 48 Loss: 0.09664604666189401\n",
      "Epoch: 49 Loss: 0.09657174931345291\n",
      "Epoch: 50 Loss: 0.09651288249073216\n",
      "Epoch: 51 Loss: 0.09646621857870824\n",
      "Epoch: 52 Loss: 0.09642920793714164\n",
      "Epoch: 53 Loss: 0.09639983556389146\n",
      "Epoch: 54 Loss: 0.09637650809320315\n",
      "Epoch: 55 Loss: 0.09635796506946956\n",
      "Epoch: 56 Loss: 0.09634320969242527\n",
      "Epoch: 57 Loss: 0.09633145269895813\n",
      "Epoch: 58 Loss: 0.0963220696981617\n",
      "Epoch: 59 Loss: 0.09631456632850949\n",
      "Epoch: 60 Loss: 0.096308551306298\n",
      "Epoch: 61 Loss: 0.09630371489671821\n",
      "Epoch: 62 Loss: 0.09629981172064625\n",
      "Epoch: 63 Loss: 0.09629664755277154\n",
      "Epoch: 64 Loss: 0.09629406864334869\n",
      "Epoch: 65 Loss: 0.09629195319630153\n",
      "Epoch: 66 Loss: 0.09629020472461687\n",
      "Epoch: 67 Loss: 0.09628874687515189\n",
      "Epoch: 68 Loss: 0.09628751929076203\n",
      "Epoch: 69 Loss: 0.09628647396826497\n",
      "Epoch: 70 Loss: 0.09628557301207688\n",
      "Epoch: 71 Loss: 0.0962847864497377\n",
      "Epoch: 72 Loss: 0.09628409030952291\n",
      "Epoch: 73 Loss: 0.09628346582685861\n",
      "Epoch: 74 Loss: 0.09628289818127402\n",
      "Epoch: 75 Loss: 0.09628237545053298\n",
      "Epoch: 76 Loss: 0.09628188842622429\n",
      "Epoch: 77 Loss: 0.0962814296169192\n",
      "Epoch: 78 Loss: 0.0962809931697373\n",
      "Epoch: 79 Loss: 0.09628057439692214\n",
      "Epoch: 80 Loss: 0.0962801696318846\n",
      "Epoch: 81 Loss: 0.09627977600507548\n",
      "Epoch: 82 Loss: 0.09627939108425129\n",
      "Epoch: 83 Loss: 0.0962790131657289\n",
      "Epoch: 84 Loss: 0.09627864069618129\n",
      "Epoch: 85 Loss: 0.09627827261224839\n",
      "Epoch: 86 Loss: 0.09627790798608261\n",
      "Epoch: 87 Loss: 0.09627754617566776\n",
      "Epoch: 88 Loss: 0.09627718642320962\n",
      "Epoch: 89 Loss: 0.0962768284876899\n",
      "Epoch: 90 Loss: 0.09627647187665728\n",
      "Epoch: 91 Loss: 0.09627611628517392\n",
      "Epoch: 92 Loss: 0.09627576162226806\n",
      "Epoch: 93 Loss: 0.09627540754499651\n",
      "Epoch: 94 Loss: 0.09627505407798465\n",
      "Epoch: 95 Loss: 0.09627470114323394\n",
      "Epoch: 96 Loss: 0.09627434839888803\n",
      "Epoch: 97 Loss: 0.09627399593818621\n",
      "Epoch: 98 Loss: 0.09627364370172202\n",
      "Epoch: 99 Loss: 0.0962732915656617\n",
      "Epoch: 100 Loss: 0.09627293966358995\n"
     ]
    },
    {
     "data": {
      "text/plain": [
       "[<matplotlib.lines.Line2D at 0x140e22910>]"
      ]
     },
     "execution_count": 217,
     "metadata": {},
     "output_type": "execute_result"
    },
    {
     "data": {
      "image/png": "[encoded data removed]",
      "text/plain": [
       "<Figure size 640x480 with 1 Axes>"
      ]
     },
     "metadata": {},
     "output_type": "display_data"
    }
   ],
   "source": [
    "batch_size = 4\n",
    "epochs = 100\n",
    "learning_rate = 0.0000001\n",
    "losses = []\n",
    "\n",
    "for epoch in range(epochs):\n",
    "    for i in range(0, X.shape[0], batch_size):\n",
    "        X_batch = X[i:i+batch_size, :]\n",
    "        y_batch = y[i:i+batch_size]\n",
    "\n",
    "        # Calculate y_hat\n",
    "        y_hat = calculate_y_hat(X_batch, w)\n",
    "\n",
    "        # Calculate cost\n",
    "        loss = calculate_loss_MSE(y_batch, y_hat)\n",
    "\n",
    "        # Calculate gradient\n",
    "        dldw = calculate_GD_flex(w, X_batch, y_batch, calculate_y_hat, calculate_loss_MSE)\n",
    "\n",
    "        # Update weights\n",
    "        w = w - learning_rate * dldw\n",
    "    \n",
    "    losses.append(loss)\n",
    "    print(f'Epoch: {epoch+1} Loss: {loss}')\n",
    "\n",
    "plt.plot(losses)\n",
    "\n"
   ]
  },
  {
   "cell_type": "markdown",
   "metadata": {},
   "source": [
    "# MAE"
   ]
  },
  {
   "cell_type": "code",
   "execution_count": 227,
   "metadata": {},
   "outputs": [],
   "source": [
    "X = df[['TOEFL Score', 'CGPA']].values\n",
    "y = df[['Chance of Admit']].values.squeeze()\n",
    "\n",
    "X = np.c_[np.ones(X.shape[0]), X]\n",
    "w = np.random.rand(3)\n"
   ]
  },
  {
   "cell_type": "code",
   "execution_count": 228,
   "metadata": {},
   "outputs": [],
   "source": [
    "def calculate_y_hat(X, w):\n",
    "    y_hat = np.dot(X, w)\n",
    "    return y_hat\n",
    "\n",
    "def calculate_loss_MAE(y, y_hat):\n",
    "    loss = np.mean(np.abs(y - y_hat))\n",
    "    return loss"
   ]
  },
  {
   "cell_type": "code",
   "execution_count": 229,
   "metadata": {},
   "outputs": [
    {
     "name": "stdout",
     "output_type": "stream",
     "text": [
      "Epoch: 1 Loss: 108.10604536878671\n",
      "Epoch: 2 Loss: 103.38668602990836\n",
      "Epoch: 3 Loss: 98.66732737883538\n",
      "Epoch: 4 Loss: 93.9479687277624\n",
      "Epoch: 5 Loss: 89.22860938888405\n",
      "Epoch: 6 Loss: 84.50924884634632\n",
      "Epoch: 7 Loss: 79.78988813185724\n",
      "Epoch: 8 Loss: 75.07052776127084\n",
      "Epoch: 9 Loss: 70.35116756263577\n",
      "Epoch: 10 Loss: 65.6318079658304\n",
      "Epoch: 11 Loss: 60.91244871292773\n",
      "Epoch: 12 Loss: 56.19309023380609\n",
      "Epoch: 13 Loss: 51.47373175468445\n",
      "Epoch: 14 Loss: 46.75437207190342\n",
      "Epoch: 15 Loss: 42.03501256107373\n",
      "Epoch: 16 Loss: 37.31565219048733\n",
      "Epoch: 17 Loss: 32.59629194886443\n",
      "Epoch: 18 Loss: 27.876930847484832\n",
      "Epoch: 19 Loss: 23.1575698320809\n",
      "Epoch: 20 Loss: 18.438209203567485\n",
      "Epoch: 21 Loss: 13.718848532066236\n",
      "Epoch: 22 Loss: 8.999488483888602\n",
      "Epoch: 23 Loss: 4.280128650650145\n",
      "Epoch: 24 Loss: 0.04039097790810159\n",
      "Epoch: 25 Loss: 0.04830301078451382\n",
      "Epoch: 26 Loss: 0.043745313436155425\n",
      "Epoch: 27 Loss: 0.05235621246799316\n",
      "Epoch: 28 Loss: 0.0475637670968192\n",
      "Epoch: 29 Loss: 0.04376093019277941\n",
      "Epoch: 30 Loss: 0.052371828776295204\n",
      "Epoch: 31 Loss: 0.0475793830464637\n",
      "Epoch: 32 Loss: 0.043776546142423906\n",
      "Epoch: 33 Loss: 0.0523874447259397\n",
      "Epoch: 34 Loss: 0.047594999354765744\n",
      "Epoch: 35 Loss: 0.04379216245072595\n",
      "Epoch: 36 Loss: 0.05240306103424175\n",
      "Epoch: 37 Loss: 0.04761061566306779\n",
      "Epoch: 38 Loss: 0.043807778759028\n",
      "Epoch: 39 Loss: 0.052418677342543796\n",
      "Epoch: 40 Loss: 0.04762623197136984\n",
      "Epoch: 41 Loss: 0.043823395067330045\n",
      "Epoch: 42 Loss: 0.05243429365084584\n",
      "Epoch: 43 Loss: 0.04764184827967188\n",
      "Epoch: 44 Loss: 0.04383901137563209\n",
      "Epoch: 45 Loss: 0.05244990995914789\n",
      "Epoch: 46 Loss: 0.04765746458797393\n",
      "Epoch: 47 Loss: 0.04385462768393414\n",
      "Epoch: 48 Loss: 0.052465526267449936\n",
      "Epoch: 49 Loss: 0.04767308017896088\n",
      "Epoch: 50 Loss: 0.04387024327492109\n",
      "Epoch: 51 Loss: 0.052481141858436886\n",
      "Epoch: 52 Loss: 0.04768869612860538\n",
      "Epoch: 53 Loss: 0.04388585922456559\n",
      "Epoch: 54 Loss: 0.05249675814432281\n",
      "Epoch: 55 Loss: 0.047704312795564974\n",
      "Epoch: 56 Loss: 0.04390147589152518\n",
      "Epoch: 57 Loss: 0.05251237447504098\n",
      "Epoch: 58 Loss: 0.04771992874520947\n",
      "Epoch: 59 Loss: 0.04391709184116968\n",
      "Epoch: 60 Loss: 0.05252799042468548\n",
      "Epoch: 61 Loss: 0.04773554469485397\n",
      "Epoch: 62 Loss: 0.04393270779081418\n",
      "Epoch: 63 Loss: 0.052543606374329976\n",
      "Epoch: 64 Loss: 0.04775116064449847\n",
      "Epoch: 65 Loss: 0.04394832374045868\n",
      "Epoch: 66 Loss: 0.052559222323974475\n",
      "Epoch: 67 Loss: 0.04776677659414297\n",
      "Epoch: 68 Loss: 0.043963939690103176\n",
      "Epoch: 69 Loss: 0.05257483827361897\n",
      "Epoch: 70 Loss: 0.047782392543787466\n",
      "Epoch: 71 Loss: 0.04419599937285082\n",
      "Epoch: 72 Loss: 0.0413117028307077\n",
      "Epoch: 73 Loss: 0.048405344749426926\n",
      "Epoch: 74 Loss: 0.04384764740106853\n",
      "Epoch: 75 Loss: 0.05245854643290626\n",
      "Epoch: 76 Loss: 0.047666100703074754\n",
      "Epoch: 77 Loss: 0.04386326379903496\n",
      "Epoch: 78 Loss: 0.05247416238255076\n",
      "Epoch: 79 Loss: 0.04768171665271925\n",
      "Epoch: 80 Loss: 0.04387887974867946\n",
      "Epoch: 81 Loss: 0.05248977887018158\n",
      "Epoch: 82 Loss: 0.04769733331967885\n",
      "Epoch: 83 Loss: 0.043894496415639056\n",
      "Epoch: 84 Loss: 0.05250539533539628\n",
      "Epoch: 85 Loss: 0.04771294998663844\n",
      "Epoch: 86 Loss: 0.04391011308259865\n",
      "Epoch: 87 Loss: 0.05252101166611445\n",
      "Epoch: 88 Loss: 0.04772856593628294\n",
      "Epoch: 89 Loss: 0.04392572903224315\n",
      "Epoch: 90 Loss: 0.052536627615758946\n",
      "Epoch: 91 Loss: 0.04774418188592744\n",
      "Epoch: 92 Loss: 0.04394134498188765\n",
      "Epoch: 93 Loss: 0.052552243565403445\n",
      "Epoch: 94 Loss: 0.04775979783557194\n",
      "Epoch: 95 Loss: 0.043956960931532146\n",
      "Epoch: 96 Loss: 0.05256785951504794\n",
      "Epoch: 97 Loss: 0.047775413785216436\n",
      "Epoch: 98 Loss: 0.043972576881176645\n",
      "Epoch: 99 Loss: 0.05258347546469244\n",
      "Epoch: 100 Loss: 0.047791029734860935\n"
     ]
    },
    {
     "data": {
      "text/plain": [
       "[<matplotlib.lines.Line2D at 0x140fd4d90>]"
      ]
     },
     "execution_count": 229,
     "metadata": {},
     "output_type": "execute_result"
    },
    {
     "data": {
      "image/png": "[encoded data removed]",
      "text/plain": [
       "<Figure size 640x480 with 1 Axes>"
      ]
     },
     "metadata": {},
     "output_type": "display_data"
    }
   ],
   "source": [
    "batch_size = 4\n",
    "epochs = 100\n",
    "learning_rate = 0.00001\n",
    "losses = []\n",
    "\n",
    "for epoch in range(epochs):\n",
    "    for i in range(0, X.shape[0], batch_size):\n",
    "        X_batch = X[i:i+batch_size, :]\n",
    "        y_batch = y[i:i+batch_size]\n",
    "\n",
    "        # Calculate y_hat\n",
    "        y_hat = calculate_y_hat(X_batch, w)\n",
    "\n",
    "        # Calculate cost\n",
    "        loss = calculate_loss_MAE(y_batch, y_hat)\n",
    "\n",
    "        # Calculate gradient\n",
    "        dldw = calculate_GD_flex(w, X_batch, y_batch, calculate_y_hat, calculate_loss_MAE)\n",
    "\n",
    "        # Update weights\n",
    "        w = w - learning_rate * dldw\n",
    "    \n",
    "    losses.append(loss)\n",
    "    print(f'Epoch: {epoch+1} Loss: {loss}')\n",
    "\n",
    "plt.plot(losses)\n",
    "\n"
   ]
  },
  {
   "cell_type": "markdown",
   "metadata": {},
   "source": [
    "# Logcosh"
   ]
  },
  {
   "cell_type": "code",
   "execution_count": 230,
   "metadata": {},
   "outputs": [],
   "source": [
    "X = df[['TOEFL Score', 'CGPA']].values\n",
    "y = df[['Chance of Admit']].values.squeeze()\n",
    "\n",
    "X = np.c_[np.ones(X.shape[0]), X]\n",
    "w = np.random.rand(3)\n"
   ]
  },
  {
   "cell_type": "code",
   "execution_count": 232,
   "metadata": {},
   "outputs": [],
   "source": [
    "def calculate_loss_LogCosh(y, y_hat):\n",
    "    loss = np.mean(np.log(np.cosh(y - y_hat)))\n",
    "    return loss"
   ]
  },
  {
   "cell_type": "code",
   "execution_count": 233,
   "metadata": {},
   "outputs": [
    {
     "name": "stdout",
     "output_type": "stream",
     "text": [
      "Epoch: 1 Loss: 33.9982427698634\n",
      "Epoch: 2 Loss: 29.278882270313495\n",
      "Epoch: 3 Loss: 24.559521727775753\n",
      "Epoch: 4 Loss: 19.840161572128533\n",
      "Epoch: 5 Loss: 15.120801287517844\n",
      "Epoch: 6 Loss: 10.401441540599748\n",
      "Epoch: 7 Loss: 5.682090038524397\n",
      "Epoch: 8 Loss: 1.0331244646980455\n",
      "Epoch: 9 Loss: 0.006121791087278684\n",
      "Epoch: 10 Loss: 0.006951536774372146\n",
      "Epoch: 11 Loss: 0.006962906493846186\n",
      "Epoch: 12 Loss: 0.006963017857765502\n",
      "Epoch: 13 Loss: 0.0069630189018548595\n",
      "Epoch: 14 Loss: 0.006963019024947334\n",
      "Epoch: 15 Loss: 0.006963018955273697\n",
      "Epoch: 16 Loss: 0.00696301880501106\n",
      "Epoch: 17 Loss: 0.006963019000994727\n",
      "Epoch: 18 Loss: 0.006963018811720404\n",
      "Epoch: 19 Loss: 0.0069630188641469255\n",
      "Epoch: 20 Loss: 0.00696301887103766\n",
      "Epoch: 21 Loss: 0.006963018943062454\n",
      "Epoch: 22 Loss: 0.006963019044575601\n",
      "Epoch: 23 Loss: 0.006963018833821946\n",
      "Epoch: 24 Loss: 0.006963018880442505\n",
      "Epoch: 25 Loss: 0.00696301900874465\n",
      "Epoch: 26 Loss: 0.006963019048193141\n",
      "Epoch: 27 Loss: 0.0069630190347450115\n",
      "Epoch: 28 Loss: 0.006963018919446819\n",
      "Epoch: 29 Loss: 0.006963018940696603\n",
      "Epoch: 30 Loss: 0.00696301887582544\n",
      "Epoch: 31 Loss: 0.0069630189731470435\n",
      "Epoch: 32 Loss: 0.006963018943266299\n",
      "Epoch: 33 Loss: 0.006963019022089316\n",
      "Epoch: 34 Loss: 0.006963018981718897\n",
      "Epoch: 35 Loss: 0.006963018864184238\n",
      "Epoch: 36 Loss: 0.006963018949379625\n",
      "Epoch: 37 Loss: 0.006963018874885131\n",
      "Epoch: 38 Loss: 0.006963018892946914\n",
      "Epoch: 39 Loss: 0.006963019002254286\n",
      "Epoch: 40 Loss: 0.006963019113690589\n",
      "Epoch: 41 Loss: 0.006963018906332306\n",
      "Epoch: 42 Loss: 0.0069630191078366935\n",
      "Epoch: 43 Loss: 0.006963018952467851\n",
      "Epoch: 44 Loss: 0.006963018913756263\n",
      "Epoch: 45 Loss: 0.006963018946025256\n",
      "Epoch: 46 Loss: 0.0069630189042181245\n",
      "Epoch: 47 Loss: 0.0069630188496626185\n",
      "Epoch: 48 Loss: 0.006963018961843254\n",
      "Epoch: 49 Loss: 0.006963019019660836\n",
      "Epoch: 50 Loss: 0.006963018838258447\n",
      "Epoch: 51 Loss: 0.006963018925530977\n",
      "Epoch: 52 Loss: 0.00696301886740614\n",
      "Epoch: 53 Loss: 0.006963018936561358\n",
      "Epoch: 54 Loss: 0.006963018981438059\n",
      "Epoch: 55 Loss: 0.0069630189612472915\n",
      "Epoch: 56 Loss: 0.006963019089686415\n",
      "Epoch: 57 Loss: 0.006963018990754136\n",
      "Epoch: 58 Loss: 0.006963018916207856\n",
      "Epoch: 59 Loss: 0.006963018947018012\n",
      "Epoch: 60 Loss: 0.006963018971870589\n",
      "Epoch: 61 Loss: 0.006963019038959725\n",
      "Epoch: 62 Loss: 0.0069630190658339156\n",
      "Epoch: 63 Loss: 0.006963018940760662\n",
      "Epoch: 64 Loss: 0.006963018893399403\n",
      "Epoch: 65 Loss: 0.0069630188954952574\n",
      "Epoch: 66 Loss: 0.0069630191162536265\n",
      "Epoch: 67 Loss: 0.0069630191036126245\n",
      "Epoch: 68 Loss: 0.006963018914564105\n",
      "Epoch: 69 Loss: 0.006963019004547053\n",
      "Epoch: 70 Loss: 0.006963019003658366\n",
      "Epoch: 71 Loss: 0.006963018959766661\n",
      "Epoch: 72 Loss: 0.006963018906840323\n",
      "Epoch: 73 Loss: 0.006963019015499672\n",
      "Epoch: 74 Loss: 0.006963018938083706\n",
      "Epoch: 75 Loss: 0.006963019006816924\n",
      "Epoch: 76 Loss: 0.006963019055440715\n",
      "Epoch: 77 Loss: 0.006963018923173106\n",
      "Epoch: 78 Loss: 0.006963019037438314\n",
      "Epoch: 79 Loss: 0.006963019072328846\n",
      "Epoch: 80 Loss: 0.006963018991147244\n",
      "Epoch: 81 Loss: 0.00696301889065613\n",
      "Epoch: 82 Loss: 0.006963018973996381\n",
      "Epoch: 83 Loss: 0.0069630189939206754\n",
      "Epoch: 84 Loss: 0.0069630189139351225\n",
      "Epoch: 85 Loss: 0.00696301894669645\n",
      "Epoch: 86 Loss: 0.006963018939861298\n",
      "Epoch: 87 Loss: 0.006963019016414555\n",
      "Epoch: 88 Loss: 0.006963018973792865\n",
      "Epoch: 89 Loss: 0.0069630189519025425\n",
      "Epoch: 90 Loss: 0.0069630188449502336\n",
      "Epoch: 91 Loss: 0.006963018953568748\n",
      "Epoch: 92 Loss: 0.00696301891444248\n",
      "Epoch: 93 Loss: 0.006963018846923748\n",
      "Epoch: 94 Loss: 0.0069630190000080795\n",
      "Epoch: 95 Loss: 0.006963019013352582\n",
      "Epoch: 96 Loss: 0.006963018837204384\n",
      "Epoch: 97 Loss: 0.006963018973981853\n",
      "Epoch: 98 Loss: 0.00696301889054166\n",
      "Epoch: 99 Loss: 0.00696301902948163\n",
      "Epoch: 100 Loss: 0.0069630189881300115\n"
     ]
    },
    {
     "data": {
      "text/plain": [
       "[<matplotlib.lines.Line2D at 0x14183f1d0>]"
      ]
     },
     "execution_count": 233,
     "metadata": {},
     "output_type": "execute_result"
    },
    {
     "data": {
      "image/png": "[encoded data removed]",
      "text/plain": [
       "<Figure size 640x480 with 1 Axes>"
      ]
     },
     "metadata": {},
     "output_type": "display_data"
    }
   ],
   "source": [
    "batch_size = 4\n",
    "epochs = 100\n",
    "learning_rate = 0.00001\n",
    "losses = []\n",
    "\n",
    "for epoch in range(epochs):\n",
    "    for i in range(0, X.shape[0], batch_size):\n",
    "        X_batch = X[i:i+batch_size, :]\n",
    "        y_batch = y[i:i+batch_size]\n",
    "\n",
    "        # Calculate y_hat\n",
    "        y_hat = calculate_y_hat(X_batch, w)\n",
    "\n",
    "        # Calculate cost\n",
    "        loss = calculate_loss_LogCosh(y_batch, y_hat)\n",
    "\n",
    "        # Calculate gradient\n",
    "        dldw = calculate_GD_flex(w, X_batch, y_batch, calculate_y_hat, calculate_loss_LogCosh)\n",
    "\n",
    "        # Update weights\n",
    "        w = w - learning_rate * dldw\n",
    "    \n",
    "    losses.append(loss)\n",
    "    print(f'Epoch: {epoch+1} Loss: {loss}')\n",
    "\n",
    "plt.plot(losses)\n",
    "\n"
   ]
  },
  {
   "cell_type": "markdown",
   "metadata": {},
   "source": [
    "# Huberloss"
   ]
  },
  {
   "cell_type": "code",
   "execution_count": 259,
   "metadata": {},
   "outputs": [],
   "source": [
    "x = df[['TOEFL Score', 'CGPA']].values\n",
    "y = df[['Chance of Admit']].values.squeeze()\n",
    "\n",
    "x = np.c_[np.ones(x.shape[0]), x]\n",
    "w = np.random.rand(3)\n"
   ]
  },
  {
   "cell_type": "code",
   "execution_count": 260,
   "metadata": {},
   "outputs": [
    {
     "data": {
      "text/plain": [
       "array([  4.99937869, 537.04923175,  42.99351986])"
      ]
     },
     "execution_count": 260,
     "metadata": {},
     "output_type": "execute_result"
    }
   ],
   "source": [
    "def calculate_huber_loss(y, y_hat, threshold):\n",
    "    loss = []\n",
    "    for i in range(len(y)):\n",
    "        if np.abs(y[i] - y_hat[i]) <= threshold:\n",
    "            cost = 0.5 * (y - y_hat)**2\n",
    "            loss.append(cost)\n",
    "        else:\n",
    "            cost = threshold * (np.abs(y - y_hat) - 0.5 * threshold)\n",
    "            loss.append(cost)\n",
    "    \n",
    "    return np.mean(loss)\n",
    "\n",
    "def calculate_GD(w, X, y, threshold, epsilon=1e-10):\n",
    "    y_hat = calculate_y_hat(X,w)\n",
    "    base_huber_loss = calculate_huber_loss(y, y_hat, threshold)\n",
    "    \n",
    "    dldw = []\n",
    "    for i in range(len(w)):\n",
    "        w_delta = w.copy()\n",
    "\n",
    "        w_delta[i] = w_delta[i] + epsilon\n",
    "\n",
    "        y_hat_delta = calculate_y_hat(X, w_delta)\n",
    "\n",
    "        huber_loss_delta = calculate_huber_loss(y, y_hat_delta, threshold)\n",
    "\n",
    "        derivative = (huber_loss_delta - base_huber_loss) / epsilon\n",
    "\n",
    "        dldw.append(derivative)\n",
    "    \n",
    "    return np.array(dldw)\n",
    "\n",
    "threshold = 5\n",
    "gd = calculate_GD(w, X, y, threshold)\n",
    "gd"
   ]
  },
  {
   "cell_type": "code",
   "execution_count": 261,
   "metadata": {},
   "outputs": [
    {
     "name": "stdout",
     "output_type": "stream",
     "text": [
      "Epoch: 1 Loss: 58.55481451360963\n",
      "Epoch: 2 Loss: 46.57861681304017\n",
      "Epoch: 3 Loss: 34.602419639160516\n",
      "Epoch: 4 Loss: 22.62622149112677\n",
      "Epoch: 5 Loss: 10.650023736625744\n",
      "Epoch: 6 Loss: 0.041645800579090744\n",
      "Epoch: 7 Loss: 0.013057298095836216\n",
      "Epoch: 8 Loss: 0.01305688882432038\n",
      "Epoch: 9 Loss: 0.013056449363391957\n",
      "Epoch: 10 Loss: 0.013056010019614539\n",
      "Epoch: 11 Loss: 0.013055570645165632\n",
      "Epoch: 12 Loss: 0.01305513148188549\n",
      "Epoch: 13 Loss: 0.013054692326171092\n",
      "Epoch: 14 Loss: 0.013054253369681036\n",
      "Epoch: 15 Loss: 0.013053814426009024\n",
      "Epoch: 16 Loss: 0.013053375620008056\n",
      "Epoch: 17 Loss: 0.01305293689047798\n",
      "Epoch: 18 Loss: 0.01305249830093147\n",
      "Epoch: 19 Loss: 0.013052059714964875\n",
      "Epoch: 20 Loss: 0.013051621268137598\n",
      "Epoch: 21 Loss: 0.013051182893708928\n",
      "Epoch: 22 Loss: 0.013050744568160978\n",
      "Epoch: 23 Loss: 0.013050306476551723\n",
      "Epoch: 24 Loss: 0.01304986838300421\n",
      "Epoch: 25 Loss: 0.013049430411352484\n",
      "Epoch: 26 Loss: 0.013048992480046113\n",
      "Epoch: 27 Loss: 0.013048554685903343\n",
      "Epoch: 28 Loss: 0.013048116966363538\n",
      "Epoch: 29 Loss: 0.013047679424536003\n",
      "Epoch: 30 Loss: 0.013047241865790676\n",
      "Epoch: 31 Loss: 0.013046804408469847\n",
      "Epoch: 32 Loss: 0.013046367096007419\n",
      "Epoch: 33 Loss: 0.01304592989558441\n",
      "Epoch: 34 Loss: 0.013045492706660894\n",
      "Epoch: 35 Loss: 0.013045055664567632\n",
      "Epoch: 36 Loss: 0.013044618652572188\n",
      "Epoch: 37 Loss: 0.013044181781445494\n",
      "Epoch: 38 Loss: 0.013043745062989519\n",
      "Epoch: 39 Loss: 0.013043308377324333\n",
      "Epoch: 40 Loss: 0.013042871745487239\n",
      "Epoch: 41 Loss: 0.013042435237815014\n",
      "Epoch: 42 Loss: 0.013041998856378838\n",
      "Epoch: 43 Loss: 0.013041562570525004\n",
      "Epoch: 44 Loss: 0.013041126317840246\n",
      "Epoch: 45 Loss: 0.013040690210763529\n",
      "Epoch: 46 Loss: 0.01304025418302399\n",
      "Epoch: 47 Loss: 0.013039818233993366\n",
      "Epoch: 48 Loss: 0.013039382358066301\n",
      "Epoch: 49 Loss: 0.01303894666001374\n",
      "Epoch: 50 Loss: 0.013038510929962398\n",
      "Epoch: 51 Loss: 0.013038075427635772\n",
      "Epoch: 52 Loss: 0.013037639969775253\n",
      "Epoch: 53 Loss: 0.013037204474962275\n",
      "Epoch: 54 Loss: 0.01303676923902485\n",
      "Epoch: 55 Loss: 0.013036334043830934\n",
      "Epoch: 56 Loss: 0.013035898929547334\n",
      "Epoch: 57 Loss: 0.01303546389551866\n",
      "Epoch: 58 Loss: 0.013035028992726959\n",
      "Epoch: 59 Loss: 0.013034594189903497\n",
      "Epoch: 60 Loss: 0.01303415942891225\n",
      "Epoch: 61 Loss: 0.013033724752543512\n",
      "Epoch: 62 Loss: 0.013033290195899919\n",
      "Epoch: 63 Loss: 0.013032855737597927\n",
      "Epoch: 64 Loss: 0.013032421384998221\n",
      "Epoch: 65 Loss: 0.013031987106464929\n",
      "Epoch: 66 Loss: 0.01303155296989413\n",
      "Epoch: 67 Loss: 0.013031118780899579\n",
      "Epoch: 68 Loss: 0.013030684819948922\n",
      "Epoch: 69 Loss: 0.013030250950199367\n",
      "Epoch: 70 Loss: 0.013029817100586321\n",
      "Epoch: 71 Loss: 0.013029383409948542\n",
      "Epoch: 72 Loss: 0.013028949724506982\n",
      "Epoch: 73 Loss: 0.013028516194717444\n",
      "Epoch: 74 Loss: 0.013028082768025468\n",
      "Epoch: 75 Loss: 0.013027649437749957\n",
      "Epoch: 76 Loss: 0.0130272161858382\n",
      "Epoch: 77 Loss: 0.013026782969834488\n",
      "Epoch: 78 Loss: 0.013026349887775727\n",
      "Epoch: 79 Loss: 0.013025916922465828\n",
      "Epoch: 80 Loss: 0.013025484033862621\n",
      "Epoch: 81 Loss: 0.013025051212517237\n",
      "Epoch: 82 Loss: 0.013024618539528278\n",
      "Epoch: 83 Loss: 0.013024185912928163\n",
      "Epoch: 84 Loss: 0.013023753331839118\n",
      "Epoch: 85 Loss: 0.013023320941387142\n",
      "Epoch: 86 Loss: 0.013022888573311232\n",
      "Epoch: 87 Loss: 0.013022456309998546\n",
      "Epoch: 88 Loss: 0.013022024202108032\n",
      "Epoch: 89 Loss: 0.013021592165471333\n",
      "Epoch: 90 Loss: 0.013021160148298757\n",
      "Epoch: 91 Loss: 0.01302072825135687\n",
      "Epoch: 92 Loss: 0.013020296480819203\n",
      "Epoch: 93 Loss: 0.013019864809552627\n",
      "Epoch: 94 Loss: 0.013019433150929748\n",
      "Epoch: 95 Loss: 0.013019001637748929\n",
      "Epoch: 96 Loss: 0.013018570213930858\n",
      "Epoch: 97 Loss: 0.013018138864540068\n",
      "Epoch: 98 Loss: 0.013017707628750708\n",
      "Epoch: 99 Loss: 0.013017276528847106\n",
      "Epoch: 100 Loss: 0.013016845399754964\n"
     ]
    },
    {
     "data": {
      "text/plain": [
       "[<matplotlib.lines.Line2D at 0x141a56b90>]"
      ]
     },
     "execution_count": 261,
     "metadata": {},
     "output_type": "execute_result"
    },
    {
     "data": {
      "image/png": "[encoded data removed]",
      "text/plain": [
       "<Figure size 640x480 with 1 Axes>"
      ]
     },
     "metadata": {},
     "output_type": "display_data"
    }
   ],
   "source": [
    "batch_size = 4\n",
    "epochs = 100\n",
    "learning_rate = 0.00001\n",
    "threshold = 2\n",
    "losses = []\n",
    "\n",
    "for epoch in range(epochs):\n",
    "    for i in range(0, X.shape[0], batch_size):\n",
    "        X_batch = X[i:i+batch_size, :]\n",
    "        y_batch = y[i:i+batch_size]\n",
    "\n",
    "        # Calculate y_hat\n",
    "        y_hat = calculate_y_hat(X_batch, w)\n",
    "\n",
    "        # Calculate cost\n",
    "        loss = calculate_loss_LogCosh(y_batch, y_hat)\n",
    "\n",
    "        # Calculate gradient\n",
    "        dldw = calculate_GD_flex(w, X_batch, y_batch, calculate_y_hat, calculate_loss_LogCosh)\n",
    "\n",
    "        # Update weights\n",
    "        w = w - learning_rate * dldw\n",
    "    \n",
    "    losses.append(loss)\n",
    "    print(f'Epoch: {epoch+1} Loss: {loss}')\n",
    "\n",
    "plt.plot(losses)\n",
    "\n"
   ]
  },
  {
   "cell_type": "code",
   "execution_count": null,
   "metadata": {},
   "outputs": [],
   "source": []
  }
 ],
 "metadata": {
  "kernelspec": {
   "display_name": "my_env",
   "language": "python",
   "name": "python3"
  },
  "language_info": {
   "codemirror_mode": {
    "name": "ipython",
    "version": 3
   },
   "file_extension": ".py",
   "mimetype": "text/x-python",
   "name": "python",
   "nbconvert_exporter": "python",
   "pygments_lexer": "ipython3",
   "version": "3.12.2"
  }
 },
 "nbformat": 4,
 "nbformat_minor": 2
}
