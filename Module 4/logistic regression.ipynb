{
 "cells": [
  {
   "cell_type": "markdown",
   "metadata": {},
   "source": [
    "# Dataset"
   ]
  },
  {
   "cell_type": "code",
   "execution_count": 1,
   "metadata": {},
   "outputs": [],
   "source": [
    "import pandas as pd\n",
    "import numpy as np\n",
    "import matplotlib.pyplot as plt\n",
    "import seaborn as sns"
   ]
  },
  {
   "cell_type": "code",
   "execution_count": 2,
   "metadata": {},
   "outputs": [
    {
     "data": {
      "text/html": [
       "<div>\n",
       "<style scoped>\n",
       "    .dataframe tbody tr th:only-of-type {\n",
       "        vertical-align: middle;\n",
       "    }\n",
       "\n",
       "    .dataframe tbody tr th {\n",
       "        vertical-align: top;\n",
       "    }\n",
       "\n",
       "    .dataframe thead th {\n",
       "        text-align: right;\n",
       "    }\n",
       "</style>\n",
       "<table border=\"1\" class=\"dataframe\">\n",
       "  <thead>\n",
       "    <tr style=\"text-align: right;\">\n",
       "      <th></th>\n",
       "      <th>Serial No.</th>\n",
       "      <th>GRE Score</th>\n",
       "      <th>TOEFL Score</th>\n",
       "      <th>University Rating</th>\n",
       "      <th>SOP</th>\n",
       "      <th>LOR</th>\n",
       "      <th>CGPA</th>\n",
       "      <th>Research</th>\n",
       "      <th>Chance of Admit</th>\n",
       "    </tr>\n",
       "  </thead>\n",
       "  <tbody>\n",
       "    <tr>\n",
       "      <th>0</th>\n",
       "      <td>1</td>\n",
       "      <td>337</td>\n",
       "      <td>118</td>\n",
       "      <td>4</td>\n",
       "      <td>4.5</td>\n",
       "      <td>4.5</td>\n",
       "      <td>9.65</td>\n",
       "      <td>1</td>\n",
       "      <td>0.92</td>\n",
       "    </tr>\n",
       "    <tr>\n",
       "      <th>1</th>\n",
       "      <td>2</td>\n",
       "      <td>324</td>\n",
       "      <td>107</td>\n",
       "      <td>4</td>\n",
       "      <td>4.0</td>\n",
       "      <td>4.5</td>\n",
       "      <td>8.87</td>\n",
       "      <td>1</td>\n",
       "      <td>0.76</td>\n",
       "    </tr>\n",
       "    <tr>\n",
       "      <th>2</th>\n",
       "      <td>3</td>\n",
       "      <td>316</td>\n",
       "      <td>104</td>\n",
       "      <td>3</td>\n",
       "      <td>3.0</td>\n",
       "      <td>3.5</td>\n",
       "      <td>8.00</td>\n",
       "      <td>1</td>\n",
       "      <td>0.72</td>\n",
       "    </tr>\n",
       "    <tr>\n",
       "      <th>3</th>\n",
       "      <td>4</td>\n",
       "      <td>322</td>\n",
       "      <td>110</td>\n",
       "      <td>3</td>\n",
       "      <td>3.5</td>\n",
       "      <td>2.5</td>\n",
       "      <td>8.67</td>\n",
       "      <td>1</td>\n",
       "      <td>0.80</td>\n",
       "    </tr>\n",
       "    <tr>\n",
       "      <th>4</th>\n",
       "      <td>5</td>\n",
       "      <td>314</td>\n",
       "      <td>103</td>\n",
       "      <td>2</td>\n",
       "      <td>2.0</td>\n",
       "      <td>3.0</td>\n",
       "      <td>8.21</td>\n",
       "      <td>0</td>\n",
       "      <td>0.65</td>\n",
       "    </tr>\n",
       "  </tbody>\n",
       "</table>\n",
       "</div>"
      ],
      "text/plain": [
       "   Serial No.  GRE Score  TOEFL Score  University Rating  SOP  LOR   CGPA  \\\n",
       "0           1        337          118                  4  4.5   4.5  9.65   \n",
       "1           2        324          107                  4  4.0   4.5  8.87   \n",
       "2           3        316          104                  3  3.0   3.5  8.00   \n",
       "3           4        322          110                  3  3.5   2.5  8.67   \n",
       "4           5        314          103                  2  2.0   3.0  8.21   \n",
       "\n",
       "   Research  Chance of Admit   \n",
       "0         1              0.92  \n",
       "1         1              0.76  \n",
       "2         1              0.72  \n",
       "3         1              0.80  \n",
       "4         0              0.65  "
      ]
     },
     "execution_count": 2,
     "metadata": {},
     "output_type": "execute_result"
    }
   ],
   "source": [
    "data = pd.read_csv('/Users/thuyduc/Documents/GitHub/AIO2025/Module 4/Datasets/Admission_Predict.csv')\n",
    "data.head()"
   ]
  },
  {
   "cell_type": "code",
   "execution_count": 101,
   "metadata": {},
   "outputs": [
    {
     "data": {
      "text/html": [
       "<div>\n",
       "<style scoped>\n",
       "    .dataframe tbody tr th:only-of-type {\n",
       "        vertical-align: middle;\n",
       "    }\n",
       "\n",
       "    .dataframe tbody tr th {\n",
       "        vertical-align: top;\n",
       "    }\n",
       "\n",
       "    .dataframe thead th {\n",
       "        text-align: right;\n",
       "    }\n",
       "</style>\n",
       "<table border=\"1\" class=\"dataframe\">\n",
       "  <thead>\n",
       "    <tr style=\"text-align: right;\">\n",
       "      <th></th>\n",
       "      <th>GRE Score</th>\n",
       "      <th>CGPA</th>\n",
       "      <th>Research</th>\n",
       "    </tr>\n",
       "  </thead>\n",
       "  <tbody>\n",
       "    <tr>\n",
       "      <th>0</th>\n",
       "      <td>1.762107</td>\n",
       "      <td>1.764818</td>\n",
       "      <td>1</td>\n",
       "    </tr>\n",
       "    <tr>\n",
       "      <th>1</th>\n",
       "      <td>0.627656</td>\n",
       "      <td>0.455151</td>\n",
       "      <td>1</td>\n",
       "    </tr>\n",
       "    <tr>\n",
       "      <th>2</th>\n",
       "      <td>-0.070467</td>\n",
       "      <td>-1.005631</td>\n",
       "      <td>1</td>\n",
       "    </tr>\n",
       "    <tr>\n",
       "      <th>3</th>\n",
       "      <td>0.453126</td>\n",
       "      <td>0.119339</td>\n",
       "      <td>1</td>\n",
       "    </tr>\n",
       "    <tr>\n",
       "      <th>4</th>\n",
       "      <td>-0.244998</td>\n",
       "      <td>-0.653029</td>\n",
       "      <td>0</td>\n",
       "    </tr>\n",
       "  </tbody>\n",
       "</table>\n",
       "</div>"
      ],
      "text/plain": [
       "   GRE Score      CGPA  Research\n",
       "0   1.762107  1.764818         1\n",
       "1   0.627656  0.455151         1\n",
       "2  -0.070467 -1.005631         1\n",
       "3   0.453126  0.119339         1\n",
       "4  -0.244998 -0.653029         0"
      ]
     },
     "execution_count": 101,
     "metadata": {},
     "output_type": "execute_result"
    }
   ],
   "source": [
    "from sklearn.preprocessing import StandardScaler\n",
    "scaler = StandardScaler()\n",
    "df = data[['GRE Score', 'CGPA', 'Research']]\n",
    "df = df.dropna()\n",
    "df[['GRE Score', 'CGPA']] = scaler.fit_transform(df[['GRE Score', 'CGPA']])\n",
    "df.head()\n"
   ]
  },
  {
   "cell_type": "markdown",
   "metadata": {},
   "source": [
    "# Logistic Regression"
   ]
  },
  {
   "cell_type": "code",
   "execution_count": 102,
   "metadata": {},
   "outputs": [
    {
     "data": {
      "text/plain": [
       "(5,)"
      ]
     },
     "execution_count": 102,
     "metadata": {},
     "output_type": "execute_result"
    }
   ],
   "source": [
    "np.ones(5).shape"
   ]
  },
  {
   "cell_type": "code",
   "execution_count": 103,
   "metadata": {},
   "outputs": [
    {
     "data": {
      "text/plain": [
       "((400,), (400, 3), (3,))"
      ]
     },
     "execution_count": 103,
     "metadata": {},
     "output_type": "execute_result"
    }
   ],
   "source": [
    "X = df[['GRE Score', 'CGPA']].values\n",
    "y = df[['Research']].values\n",
    "\n",
    "X = np.c_[np.ones(X.shape[0]), X]\n",
    "y = y.squeeze()\n",
    "w = np.random.rand(3)\n",
    "y.shape, X.shape, w.shape"
   ]
  },
  {
   "cell_type": "code",
   "execution_count": 104,
   "metadata": {},
   "outputs": [],
   "source": [
    "# X = df[['GRE Score', 'CGPA']]\n",
    "# X = np.array([np.ones(len(X)), X.iloc[:, 0], X.iloc[:, 1]]).T\n",
    "# y = df['Research'].to_numpy()\n",
    "# w = np.random.rand(3)\n",
    "# X"
   ]
  },
  {
   "cell_type": "markdown",
   "metadata": {},
   "source": [
    "# Cross entropy loss"
   ]
  },
  {
   "cell_type": "code",
   "execution_count": 105,
   "metadata": {},
   "outputs": [
    {
     "data": {
      "text/plain": [
       "array([-0.00369526, -0.0190007 ,  0.00235375])"
      ]
     },
     "execution_count": 105,
     "metadata": {},
     "output_type": "execute_result"
    }
   ],
   "source": [
    "import numpy as np\n",
    "\n",
    "def calculate_z(X, w):\n",
    "    z = np.dot(X, w)\n",
    "    return z\n",
    "\n",
    "def calculate_sigmoid(z):\n",
    "    sigmoid = 1 / (1 + np.exp(-z))  # Removed +1e-2\n",
    "    return sigmoid\n",
    "\n",
    "def calculate_loss_binary_entropy(y_true, y_pred):\n",
    "    epsilon = 1e-10  # Small value to avoid log(0)\n",
    "    cost = - y_true * np.log(y_pred + epsilon) - (1 - y_true) * np.log(1 - y_pred + epsilon)\n",
    "    loss = np.mean(cost)\n",
    "    return loss\n",
    "\n",
    "def calculate_GD_binary_entropy(y, y_hat, X):\n",
    "    derivative = np.dot(X.T, (y_hat - y)) / y.size\n",
    "    return derivative\n",
    "\n",
    "z = calculate_z(X, w)\n",
    "sigmoid = calculate_sigmoid(z)\n",
    "loss = calculate_loss_binary_entropy(y, sigmoid)\n",
    "sigmoid\n",
    "loss\n",
    "dldw = calculate_GD_binary_entropy(y, sigmoid, X)\n",
    "dldw\n"
   ]
  },
  {
   "cell_type": "markdown",
   "metadata": {},
   "source": [
    "## Train"
   ]
  },
  {
   "cell_type": "code",
   "execution_count": 106,
   "metadata": {},
   "outputs": [
    {
     "data": {
      "text/plain": [
       "((400,), (400, 3))"
      ]
     },
     "execution_count": 106,
     "metadata": {},
     "output_type": "execute_result"
    }
   ],
   "source": [
    "X = df[['GRE Score', 'CGPA']].values\n",
    "y = df[['Research']].values\n",
    "X = np.c_[np.ones(X.shape[0]), X]\n",
    "y = y.squeeze()\n",
    "\n",
    "y.shape, X.shape"
   ]
  },
  {
   "cell_type": "code",
   "execution_count": 107,
   "metadata": {},
   "outputs": [
    {
     "data": {
      "text/plain": [
       "((320, 3), (40, 3), (40, 3), (320,), (40,), (40,))"
      ]
     },
     "execution_count": 107,
     "metadata": {},
     "output_type": "execute_result"
    }
   ],
   "source": [
    "from sklearn.model_selection import train_test_split\n",
    "X_train, X_test, y_train, y_test = train_test_split(X, y, test_size=0.2, random_state=42, stratify= y)\n",
    "X_test, X_val, y_test, y_val = train_test_split(X_test, y_test, test_size=0.5, random_state=42, stratify= y_test)\n",
    "X_train.shape, X_test.shape, X_val.shape, y_train.shape, y_test.shape, y_val.shape"
   ]
  },
  {
   "cell_type": "code",
   "execution_count": 120,
   "metadata": {},
   "outputs": [],
   "source": [
    "alpha = 0.003\n",
    "epochs = 20\n",
    "batch_size  = 10\n",
    "w = np.random.rand(3)"
   ]
  },
  {
   "cell_type": "code",
   "execution_count": 121,
   "metadata": {},
   "outputs": [
    {
     "name": "stdout",
     "output_type": "stream",
     "text": [
      "Epoch 1/20, loss: 0.49489139292917644, f1: 0.782608695652174, accuracy: 0.75\n",
      "Best f1: 0.782608695652174\n",
      "Epoch 2/20, loss: 0.4923675870866601, f1: 0.782608695652174, accuracy: 0.75\n",
      "Epoch 3/20, loss: 0.48993296727493146, f1: 0.782608695652174, accuracy: 0.75\n",
      "Epoch 4/20, loss: 0.4875833600053266, f1: 0.782608695652174, accuracy: 0.75\n",
      "Epoch 5/20, loss: 0.48531483675514175, f1: 0.782608695652174, accuracy: 0.75\n",
      "Epoch 6/20, loss: 0.4831236969684613, f1: 0.782608695652174, accuracy: 0.75\n",
      "Epoch 7/20, loss: 0.48100645238795775, f1: 0.782608695652174, accuracy: 0.75\n",
      "Epoch 8/20, loss: 0.4789598126046234, f1: 0.782608695652174, accuracy: 0.75\n",
      "Epoch 9/20, loss: 0.47698067172237674, f1: 0.782608695652174, accuracy: 0.75\n",
      "Epoch 10/20, loss: 0.47506609604360894, f1: 0.782608695652174, accuracy: 0.75\n",
      "Epoch 11/20, loss: 0.4732133126900627, f1: 0.782608695652174, accuracy: 0.75\n",
      "Epoch 12/20, loss: 0.4714196990810263, f1: 0.782608695652174, accuracy: 0.75\n",
      "Epoch 13/20, loss: 0.4696827731977269, f1: 0.782608695652174, accuracy: 0.75\n",
      "Epoch 14/20, loss: 0.4680001845691041, f1: 0.782608695652174, accuracy: 0.75\n",
      "Epoch 15/20, loss: 0.4663697059198473, f1: 0.782608695652174, accuracy: 0.75\n",
      "Epoch 16/20, loss: 0.4647892254267939, f1: 0.782608695652174, accuracy: 0.75\n",
      "Epoch 17/20, loss: 0.46325673953448987, f1: 0.782608695652174, accuracy: 0.75\n",
      "Epoch 18/20, loss: 0.46177034628502067, f1: 0.782608695652174, accuracy: 0.75\n",
      "Epoch 19/20, loss: 0.4603282391211085, f1: 0.782608695652174, accuracy: 0.75\n",
      "Epoch 20/20, loss: 0.45892870112502315, f1: 0.782608695652174, accuracy: 0.75\n"
     ]
    },
    {
     "data": {
      "image/png": "[encoded data removed]",
      "text/plain": [
       "<Figure size 640x480 with 1 Axes>"
      ]
     },
     "metadata": {},
     "output_type": "display_data"
    }
   ],
   "source": [
    "# Trainning (mini-batch)\n",
    "from sklearn.metrics import f1_score, accuracy_score\n",
    "def GD_mini_batch(X_train, y_train, X_val, y_val, w, alpha, epochs, batch_size):\n",
    "    lossess = []\n",
    "    best_w = w\n",
    "    best_f1 = 0\n",
    "    \n",
    "    for epoch in range(epochs):\n",
    "        # Training loop\n",
    "        for i in range(0, len(X_train), batch_size):\n",
    "            X_batch = X_train[i : i + batch_size, :]\n",
    "            y_batch = y_train[i : i + batch_size]\n",
    "\n",
    "            #Calculate z\n",
    "            z = calculate_z(X_batch, w)\n",
    "\n",
    "            #Calculate y_hat\n",
    "            y_prob_hat = calculate_sigmoid(z)\n",
    "\n",
    "            #Calculate loss\n",
    "            loss = calculate_loss_binary_entropy(y_batch, y_prob_hat)\n",
    "\n",
    "            #Calculate gradient\n",
    "            dldw = calculate_GD_binary_entropy(y_batch, y_prob_hat, X_batch)\n",
    "\n",
    "            # Update w\n",
    "            w = w - alpha * dldw\n",
    "        \n",
    "        lossess.append(loss)\n",
    "\n",
    "        # Validation loop\n",
    "        z_val = calculate_z(X_val, w)\n",
    "\n",
    "        y_prob_val = calculate_sigmoid(z_val)\n",
    "\n",
    "        y_label_predict = [1 if i > 0.5 else 0 for i in y_prob_val]\n",
    "\n",
    "        f1 = f1_score(y_val, y_label_predict)\n",
    "        accuracy = accuracy_score(y_val, y_label_predict)\n",
    "\n",
    "        print(f'Epoch {epoch + 1}/{epochs}, loss: {loss}, f1: {f1}, accuracy: {accuracy}')\n",
    "        \n",
    "        if f1 > best_f1:\n",
    "            best_f1 = f1\n",
    "            best_w = w\n",
    "            print(f\"Best f1: {best_f1}\")\n",
    "\n",
    "    return best_w, lossess\n",
    "\n",
    "best_w, lossess = GD_mini_batch(X_train, y_train, X_val, y_val, w, alpha, epochs, batch_size)\n",
    "\n",
    "plt.plot(lossess)\n",
    "plt.xlabel('Epochs')\n",
    "plt.ylabel('Loss')\n",
    "plt.show()\n"
   ]
  },
  {
   "cell_type": "markdown",
   "metadata": {},
   "source": [
    "## Evaluate"
   ]
  },
  {
   "cell_type": "code",
   "execution_count": 122,
   "metadata": {},
   "outputs": [
    {
     "data": {
      "text/plain": [
       "(0.7727272727272727, 0.75)"
      ]
     },
     "execution_count": 122,
     "metadata": {},
     "output_type": "execute_result"
    }
   ],
   "source": [
    "z_test = calculate_z(X_test, best_w)\n",
    "y_prob_test = calculate_sigmoid(z_test)\n",
    "y_label_predict = [1 if i > 0.5 else 0 for i in y_prob_test]\n",
    "f1 = f1_score(y_test, y_label_predict)\n",
    "accuracy = accuracy_score(y_test, y_label_predict)\n",
    "f1, accuracy"
   ]
  },
  {
   "cell_type": "markdown",
   "metadata": {},
   "source": [
    "# MSE"
   ]
  },
  {
   "cell_type": "code",
   "execution_count": 124,
   "metadata": {},
   "outputs": [
    {
     "data": {
      "text/plain": [
       "((400,), (400, 3), (3,))"
      ]
     },
     "execution_count": 124,
     "metadata": {},
     "output_type": "execute_result"
    }
   ],
   "source": [
    "X = df[['GRE Score', 'CGPA']].values\n",
    "y = df[['Research']].values\n",
    "\n",
    "X = np.c_[np.ones(X.shape[0]), X]\n",
    "y = y.squeeze()\n",
    "w = np.random.rand(3)\n",
    "y.shape, X.shape, w.shape"
   ]
  },
  {
   "cell_type": "code",
   "execution_count": 126,
   "metadata": {},
   "outputs": [
    {
     "data": {
      "text/plain": [
       "array([ 0.04058504, -0.01854036, -0.00975127])"
      ]
     },
     "execution_count": 126,
     "metadata": {},
     "output_type": "execute_result"
    }
   ],
   "source": [
    "def calculate_z(X, w):\n",
    "    z = np.dot(X, w)\n",
    "    return z\n",
    "\n",
    "def calculate_sigmoid(z):\n",
    "    sigmoid = 1 / (1 + np.exp(-z))  # Removed +1e-2\n",
    "    return sigmoid\n",
    "\n",
    "def calculate_loss_MSE(y_true, y_pred):\n",
    "    cost = np.square(y_true - y_pred)\n",
    "    loss = np.mean(cost)\n",
    "    return loss\n",
    "\n",
    "def calculate_GD_MSE(y, y_hat, X):\n",
    "    derivative = (-2 * np.dot(X.T ,(y - y_hat) * y_hat * (1 - y_hat))) / y.size\n",
    "    return derivative\n",
    "\n",
    "z = calculate_z(X, w)\n",
    "sigmoid = calculate_sigmoid(z)\n",
    "loss = calculate_loss_MSE(y, sigmoid)\n",
    "sigmoid\n",
    "loss\n",
    "dldw = calculate_GD_binary_entropy(y, sigmoid, X)\n",
    "dldw"
   ]
  },
  {
   "cell_type": "markdown",
   "metadata": {},
   "source": [
    "## Train"
   ]
  },
  {
   "cell_type": "code",
   "execution_count": 127,
   "metadata": {},
   "outputs": [
    {
     "data": {
      "text/plain": [
       "((400,), (400, 3))"
      ]
     },
     "execution_count": 127,
     "metadata": {},
     "output_type": "execute_result"
    }
   ],
   "source": [
    "X = df[['GRE Score', 'CGPA']].values\n",
    "y = df[['Research']].values\n",
    "X = np.c_[np.ones(X.shape[0]), X]\n",
    "y = y.squeeze()\n",
    "\n",
    "y.shape, X.shape"
   ]
  },
  {
   "cell_type": "code",
   "execution_count": 128,
   "metadata": {},
   "outputs": [
    {
     "data": {
      "text/plain": [
       "((320, 3), (40, 3), (40, 3), (320,), (40,), (40,))"
      ]
     },
     "execution_count": 128,
     "metadata": {},
     "output_type": "execute_result"
    }
   ],
   "source": [
    "from sklearn.model_selection import train_test_split\n",
    "X_train, X_test, y_train, y_test = train_test_split(X, y, test_size=0.2, random_state=42, stratify= y)\n",
    "X_test, X_val, y_test, y_val = train_test_split(X_test, y_test, test_size=0.5, random_state=42, stratify= y_test)\n",
    "X_train.shape, X_test.shape, X_val.shape, y_train.shape, y_test.shape, y_val.shape"
   ]
  },
  {
   "cell_type": "code",
   "execution_count": 131,
   "metadata": {},
   "outputs": [],
   "source": [
    "alpha = 0.003\n",
    "epochs = 20\n",
    "batch_size  = 10\n",
    "w = np.random.rand(3)"
   ]
  },
  {
   "cell_type": "code",
   "execution_count": 132,
   "metadata": {},
   "outputs": [
    {
     "name": "stdout",
     "output_type": "stream",
     "text": [
      "Epoch 1/20, loss: 0.22866045154169323, f1: 0.7719298245614035, accuracy: 0.675\n",
      "Best f1: 0.7719298245614035\n",
      "Epoch 2/20, loss: 0.2267214353370691, f1: 0.7719298245614035, accuracy: 0.675\n",
      "Epoch 3/20, loss: 0.22482326178190531, f1: 0.7857142857142857, accuracy: 0.7\n",
      "Best f1: 0.7857142857142857\n",
      "Epoch 4/20, loss: 0.22296520469532374, f1: 0.7857142857142857, accuracy: 0.7\n",
      "Epoch 5/20, loss: 0.22114652259577033, f1: 0.7636363636363637, accuracy: 0.675\n",
      "Epoch 6/20, loss: 0.21936646223005202, f1: 0.7636363636363637, accuracy: 0.675\n",
      "Epoch 7/20, loss: 0.21762426179015404, f1: 0.7636363636363637, accuracy: 0.675\n",
      "Epoch 8/20, loss: 0.21591915383306692, f1: 0.7777777777777778, accuracy: 0.7\n",
      "Epoch 9/20, loss: 0.21425036791972785, f1: 0.7777777777777778, accuracy: 0.7\n",
      "Epoch 10/20, loss: 0.21261713298968585, f1: 0.7777777777777778, accuracy: 0.7\n",
      "Epoch 11/20, loss: 0.2110186794882932, f1: 0.7777777777777778, accuracy: 0.7\n",
      "Epoch 12/20, loss: 0.2094542412631632, f1: 0.7777777777777778, accuracy: 0.7\n",
      "Epoch 13/20, loss: 0.2079230572463687, f1: 0.7777777777777778, accuracy: 0.7\n",
      "Epoch 14/20, loss: 0.2064243729384235, f1: 0.7777777777777778, accuracy: 0.7\n",
      "Epoch 15/20, loss: 0.2049574417095342, f1: 0.7777777777777778, accuracy: 0.7\n",
      "Epoch 16/20, loss: 0.2035215259329611, f1: 0.7777777777777778, accuracy: 0.7\n",
      "Epoch 17/20, loss: 0.20211589796461354, f1: 0.7777777777777778, accuracy: 0.7\n",
      "Epoch 18/20, loss: 0.2007398409822458, f1: 0.7777777777777778, accuracy: 0.7\n",
      "Epoch 19/20, loss: 0.19939264969684123, f1: 0.7777777777777778, accuracy: 0.7\n",
      "Epoch 20/20, loss: 0.19807363094798075, f1: 0.7777777777777778, accuracy: 0.7\n"
     ]
    },
    {
     "data": {
      "image/png": "[encoded data removed]",
      "text/plain": [
       "<Figure size 640x480 with 1 Axes>"
      ]
     },
     "metadata": {},
     "output_type": "display_data"
    }
   ],
   "source": [
    "# Trainning (mini-batch)\n",
    "from sklearn.metrics import f1_score, accuracy_score\n",
    "def GD_mini_batch(X_train, y_train, X_val, y_val, w, alpha, epochs, batch_size):\n",
    "    lossess = []\n",
    "    best_w = w\n",
    "    best_f1 = 0\n",
    "    \n",
    "    for epoch in range(epochs):\n",
    "        # Training loop\n",
    "        for i in range(0, len(X_train), batch_size):\n",
    "            X_batch = X_train[i : i + batch_size, :]\n",
    "            y_batch = y_train[i : i + batch_size]\n",
    "\n",
    "            #Calculate z\n",
    "            z = calculate_z(X_batch, w)\n",
    "\n",
    "            #Calculate y_hat\n",
    "            y_prob_hat = calculate_sigmoid(z)\n",
    "\n",
    "            #Calculate loss\n",
    "            loss = calculate_loss_MSE(y_batch, y_prob_hat)\n",
    "\n",
    "            #Calculate gradient\n",
    "            dldw = calculate_GD_MSE(y_batch, y_prob_hat, X_batch)\n",
    "\n",
    "            # Update w\n",
    "            w = w - alpha * dldw\n",
    "        \n",
    "        lossess.append(loss)\n",
    "\n",
    "        # Validation loop\n",
    "        z_val = calculate_z(X_val, w)\n",
    "\n",
    "        y_prob_val = calculate_sigmoid(z_val)\n",
    "\n",
    "        y_label_predict = [1 if i > 0.5 else 0 for i in y_prob_val]\n",
    "\n",
    "        f1 = f1_score(y_val, y_label_predict)\n",
    "        accuracy = accuracy_score(y_val, y_label_predict)\n",
    "\n",
    "        print(f'Epoch {epoch + 1}/{epochs}, loss: {loss}, f1: {f1}, accuracy: {accuracy}')\n",
    "        \n",
    "        if f1 > best_f1:\n",
    "            best_f1 = f1\n",
    "            best_w = w\n",
    "            print(f\"Best f1: {best_f1}\")\n",
    "\n",
    "    return best_w, lossess\n",
    "\n",
    "best_w, lossess = GD_mini_batch(X_train, y_train, X_val, y_val, w, alpha, epochs, batch_size)\n",
    "\n",
    "plt.plot(lossess)\n",
    "plt.xlabel('Epochs')\n",
    "plt.ylabel('Loss')\n",
    "plt.show()\n"
   ]
  },
  {
   "cell_type": "code",
   "execution_count": null,
   "metadata": {},
   "outputs": [],
   "source": []
  }
 ],
 "metadata": {
  "kernelspec": {
   "display_name": "my_env",
   "language": "python",
   "name": "python3"
  },
  "language_info": {
   "codemirror_mode": {
    "name": "ipython",
    "version": 3
   },
   "file_extension": ".py",
   "mimetype": "text/x-python",
   "name": "python",
   "nbconvert_exporter": "python",
   "pygments_lexer": "ipython3",
   "version": "3.12.2"
  }
 },
 "nbformat": 4,
 "nbformat_minor": 2
}
