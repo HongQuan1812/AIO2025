{
 "cells": [
  {
   "cell_type": "code",
   "execution_count": null,
   "id": "76768206",
   "metadata": {},
   "outputs": [
    {
     "data": {
      "text/plain": [
       "<torch._C.Generator at 0x167355ab0>"
      ]
     },
     "execution_count": 2,
     "metadata": {},
     "output_type": "execute_result"
    }
   ],
   "source": [
    "import numpy as np\n",
    "import pandas as pd\n",
    "import matplotlib.pyplot as plt\n",
    "import torch\n",
    "import torch.nn as nn\n",
    "import torch.nn.functional as F\n",
    "from torch.utils.data import Dataset, DataLoader\n",
    "\n",
    "from sklearn.model_selection import train_test_split\n",
    "from sklearn.preprocessing import StandardScaler\n",
    "from sklearn.metrics import accuracy_score\n",
    "\n",
    "device = torch.device('cuda:0' if torch.cuda.is_available() else 'cpu')\n",
    "random_state = 59\n",
    "np.random.seed(random_state)\n",
    "torch.manual_seed(random_state)"
   ]
  },
  {
   "cell_type": "markdown",
   "id": "0f59e166",
   "metadata": {},
   "source": [
    "### Data"
   ]
  },
  {
   "cell_type": "code",
   "execution_count": 29,
   "id": "d9ba7208",
   "metadata": {},
   "outputs": [
    {
     "data": {
      "text/html": [
       "<div>\n",
       "<style scoped>\n",
       "    .dataframe tbody tr th:only-of-type {\n",
       "        vertical-align: middle;\n",
       "    }\n",
       "\n",
       "    .dataframe tbody tr th {\n",
       "        vertical-align: top;\n",
       "    }\n",
       "\n",
       "    .dataframe thead th {\n",
       "        text-align: right;\n",
       "    }\n",
       "</style>\n",
       "<table border=\"1\" class=\"dataframe\">\n",
       "  <thead>\n",
       "    <tr style=\"text-align: right;\">\n",
       "      <th></th>\n",
       "      <th>MPG</th>\n",
       "      <th>Cylinders</th>\n",
       "      <th>Displacement</th>\n",
       "      <th>Horsepower</th>\n",
       "      <th>Weight</th>\n",
       "      <th>Acceleration</th>\n",
       "      <th>Model Year</th>\n",
       "      <th>Europe</th>\n",
       "      <th>Japan</th>\n",
       "      <th>USA</th>\n",
       "    </tr>\n",
       "  </thead>\n",
       "  <tbody>\n",
       "    <tr>\n",
       "      <th>0</th>\n",
       "      <td>18.0</td>\n",
       "      <td>8</td>\n",
       "      <td>307.0</td>\n",
       "      <td>130.0</td>\n",
       "      <td>3504.0</td>\n",
       "      <td>12.0</td>\n",
       "      <td>70</td>\n",
       "      <td>0</td>\n",
       "      <td>0</td>\n",
       "      <td>1</td>\n",
       "    </tr>\n",
       "    <tr>\n",
       "      <th>1</th>\n",
       "      <td>15.0</td>\n",
       "      <td>8</td>\n",
       "      <td>350.0</td>\n",
       "      <td>165.0</td>\n",
       "      <td>3693.0</td>\n",
       "      <td>11.5</td>\n",
       "      <td>70</td>\n",
       "      <td>0</td>\n",
       "      <td>0</td>\n",
       "      <td>1</td>\n",
       "    </tr>\n",
       "    <tr>\n",
       "      <th>2</th>\n",
       "      <td>18.0</td>\n",
       "      <td>8</td>\n",
       "      <td>318.0</td>\n",
       "      <td>150.0</td>\n",
       "      <td>3436.0</td>\n",
       "      <td>11.0</td>\n",
       "      <td>70</td>\n",
       "      <td>0</td>\n",
       "      <td>0</td>\n",
       "      <td>1</td>\n",
       "    </tr>\n",
       "    <tr>\n",
       "      <th>3</th>\n",
       "      <td>16.0</td>\n",
       "      <td>8</td>\n",
       "      <td>304.0</td>\n",
       "      <td>150.0</td>\n",
       "      <td>3433.0</td>\n",
       "      <td>12.0</td>\n",
       "      <td>70</td>\n",
       "      <td>0</td>\n",
       "      <td>0</td>\n",
       "      <td>1</td>\n",
       "    </tr>\n",
       "    <tr>\n",
       "      <th>4</th>\n",
       "      <td>17.0</td>\n",
       "      <td>8</td>\n",
       "      <td>302.0</td>\n",
       "      <td>140.0</td>\n",
       "      <td>3449.0</td>\n",
       "      <td>10.5</td>\n",
       "      <td>70</td>\n",
       "      <td>0</td>\n",
       "      <td>0</td>\n",
       "      <td>1</td>\n",
       "    </tr>\n",
       "    <tr>\n",
       "      <th>...</th>\n",
       "      <td>...</td>\n",
       "      <td>...</td>\n",
       "      <td>...</td>\n",
       "      <td>...</td>\n",
       "      <td>...</td>\n",
       "      <td>...</td>\n",
       "      <td>...</td>\n",
       "      <td>...</td>\n",
       "      <td>...</td>\n",
       "      <td>...</td>\n",
       "    </tr>\n",
       "    <tr>\n",
       "      <th>387</th>\n",
       "      <td>27.0</td>\n",
       "      <td>4</td>\n",
       "      <td>140.0</td>\n",
       "      <td>86.0</td>\n",
       "      <td>2790.0</td>\n",
       "      <td>15.6</td>\n",
       "      <td>82</td>\n",
       "      <td>0</td>\n",
       "      <td>0</td>\n",
       "      <td>1</td>\n",
       "    </tr>\n",
       "    <tr>\n",
       "      <th>388</th>\n",
       "      <td>44.0</td>\n",
       "      <td>4</td>\n",
       "      <td>97.0</td>\n",
       "      <td>52.0</td>\n",
       "      <td>2130.0</td>\n",
       "      <td>24.6</td>\n",
       "      <td>82</td>\n",
       "      <td>1</td>\n",
       "      <td>0</td>\n",
       "      <td>0</td>\n",
       "    </tr>\n",
       "    <tr>\n",
       "      <th>389</th>\n",
       "      <td>32.0</td>\n",
       "      <td>4</td>\n",
       "      <td>135.0</td>\n",
       "      <td>84.0</td>\n",
       "      <td>2295.0</td>\n",
       "      <td>11.6</td>\n",
       "      <td>82</td>\n",
       "      <td>0</td>\n",
       "      <td>0</td>\n",
       "      <td>1</td>\n",
       "    </tr>\n",
       "    <tr>\n",
       "      <th>390</th>\n",
       "      <td>28.0</td>\n",
       "      <td>4</td>\n",
       "      <td>120.0</td>\n",
       "      <td>79.0</td>\n",
       "      <td>2625.0</td>\n",
       "      <td>18.6</td>\n",
       "      <td>82</td>\n",
       "      <td>0</td>\n",
       "      <td>0</td>\n",
       "      <td>1</td>\n",
       "    </tr>\n",
       "    <tr>\n",
       "      <th>391</th>\n",
       "      <td>31.0</td>\n",
       "      <td>4</td>\n",
       "      <td>119.0</td>\n",
       "      <td>82.0</td>\n",
       "      <td>2720.0</td>\n",
       "      <td>19.4</td>\n",
       "      <td>82</td>\n",
       "      <td>0</td>\n",
       "      <td>0</td>\n",
       "      <td>1</td>\n",
       "    </tr>\n",
       "  </tbody>\n",
       "</table>\n",
       "<p>392 rows × 10 columns</p>\n",
       "</div>"
      ],
      "text/plain": [
       "      MPG  Cylinders  Displacement  Horsepower  Weight  Acceleration  \\\n",
       "0    18.0          8         307.0       130.0  3504.0          12.0   \n",
       "1    15.0          8         350.0       165.0  3693.0          11.5   \n",
       "2    18.0          8         318.0       150.0  3436.0          11.0   \n",
       "3    16.0          8         304.0       150.0  3433.0          12.0   \n",
       "4    17.0          8         302.0       140.0  3449.0          10.5   \n",
       "..    ...        ...           ...         ...     ...           ...   \n",
       "387  27.0          4         140.0        86.0  2790.0          15.6   \n",
       "388  44.0          4          97.0        52.0  2130.0          24.6   \n",
       "389  32.0          4         135.0        84.0  2295.0          11.6   \n",
       "390  28.0          4         120.0        79.0  2625.0          18.6   \n",
       "391  31.0          4         119.0        82.0  2720.0          19.4   \n",
       "\n",
       "     Model Year  Europe  Japan  USA  \n",
       "0            70       0      0    1  \n",
       "1            70       0      0    1  \n",
       "2            70       0      0    1  \n",
       "3            70       0      0    1  \n",
       "4            70       0      0    1  \n",
       "..          ...     ...    ...  ...  \n",
       "387          82       0      0    1  \n",
       "388          82       1      0    0  \n",
       "389          82       0      0    1  \n",
       "390          82       0      0    1  \n",
       "391          82       0      0    1  \n",
       "\n",
       "[392 rows x 10 columns]"
      ]
     },
     "execution_count": 29,
     "metadata": {},
     "output_type": "execute_result"
    }
   ],
   "source": [
    "data = pd.read_csv('Datasets/Auto_MPG_data.csv')\n",
    "data"
   ]
  },
  {
   "cell_type": "code",
   "execution_count": 30,
   "id": "c2c999e2",
   "metadata": {},
   "outputs": [
    {
     "data": {
      "text/plain": [
       "((392, 9), (392,))"
      ]
     },
     "execution_count": 30,
     "metadata": {},
     "output_type": "execute_result"
    }
   ],
   "source": [
    "X = data.drop(columns = 'MPG').values\n",
    "y = data[['MPG']].values.squeeze()\n",
    "\n",
    "X.shape, y.shape"
   ]
  },
  {
   "cell_type": "markdown",
   "id": "f31b5541",
   "metadata": {},
   "source": [
    "### Split data"
   ]
  },
  {
   "cell_type": "code",
   "execution_count": 81,
   "id": "1d36690a",
   "metadata": {},
   "outputs": [
    {
     "name": "stdout",
     "output_type": "stream",
     "text": [
      "Number of training samples: 274\n",
      "Number of validation samples: 78\n",
      "Number of test samples: 40\n"
     ]
    }
   ],
   "source": [
    "X_train, X_test, y_train, y_test = train_test_split(X, y, test_size=0.3, random_state=42, shuffle=True)\n",
    "\n",
    "X_val, X_test, y_val, y_test = train_test_split(X_test, y_test, test_size=0.3333333, random_state=42, shuffle=True)\n",
    "\n",
    "print(f'Number of training samples: {len(y_train)}')\n",
    "print(f'Number of validation samples: {len(y_val)}')\n",
    "print(f'Number of test samples: {len(y_test)}')"
   ]
  },
  {
   "cell_type": "markdown",
   "id": "2ead7578",
   "metadata": {},
   "source": [
    "### Normalization"
   ]
  },
  {
   "cell_type": "code",
   "execution_count": 82,
   "id": "5d84230a",
   "metadata": {},
   "outputs": [
    {
     "data": {
      "text/plain": [
       "array([-0.87326597, -0.85486343, -0.28591285, -0.72540295,  0.34274942,\n",
       "       -0.86872055, -0.41344912,  1.951158  , -1.35083021])"
      ]
     },
     "execution_count": 82,
     "metadata": {},
     "output_type": "execute_result"
    }
   ],
   "source": [
    "# We only use the train set to fit the scaler\n",
    "scaler = StandardScaler()\n",
    "\n",
    "scaler.fit(X_train)\n",
    "\n",
    "X_train = scaler.transform(X_train)\n",
    "\n",
    "X_test = scaler.transform(X_test)\n",
    "\n",
    "X_val = scaler.transform(X_val)\n",
    "\n",
    "X_train.shape, X_test.shape, X_val.shape\n",
    "X_train[0]"
   ]
  },
  {
   "cell_type": "code",
   "execution_count": 83,
   "id": "6d09ab3b",
   "metadata": {},
   "outputs": [],
   "source": [
    "X_train = torch.tensor(X_train, dtype=torch.float32)\n",
    "X_val = torch.tensor(X_val, dtype=torch.float32)\n",
    "X_test = torch.tensor(X_test, dtype=torch.float32)\n",
    "\n",
    "y_train = torch.tensor(y_train, dtype=torch.float32)\n",
    "y_val = torch.tensor(y_val, dtype=torch.float32)\n",
    "y_test = torch.tensor(y_test, dtype=torch.float32)"
   ]
  },
  {
   "cell_type": "markdown",
   "id": "c78d5d78",
   "metadata": {},
   "source": [
    "### Dataset"
   ]
  },
  {
   "cell_type": "code",
   "execution_count": 84,
   "id": "122ed700",
   "metadata": {},
   "outputs": [],
   "source": [
    "class CustomDataset(Dataset):\n",
    "    def __init__(self, X, y):\n",
    "        self.X = X\n",
    "        self.y = y\n",
    "\n",
    "    def __len__(self):\n",
    "        return len(self.y)\n",
    "    \n",
    "    def __getitem__(self, index):\n",
    "        \n",
    "        return (self.X[index], self.y[index])\n",
    "    "
   ]
  },
  {
   "cell_type": "code",
   "execution_count": 85,
   "id": "caad2801",
   "metadata": {},
   "outputs": [],
   "source": [
    "dataset_train = CustomDataset(X_train, y_train)\n",
    "dataset_val = CustomDataset(X_val, y_val)\n",
    "dataset_test = CustomDataset(X_test, y_test)"
   ]
  },
  {
   "cell_type": "markdown",
   "id": "92ceec1d",
   "metadata": {},
   "source": [
    "### Data Loader"
   ]
  },
  {
   "cell_type": "code",
   "execution_count": 86,
   "id": "0a56db6f",
   "metadata": {},
   "outputs": [],
   "source": [
    "Batch_Size = 64\n",
    "dataloader_train = DataLoader(dataset_train, batch_size=Batch_Size, shuffle=True)\n",
    "dataloader_val = DataLoader(dataset_val, batch_size=Batch_Size, shuffle=False)\n",
    "dataloader_test = DataLoader(dataset_test, batch_size=Batch_Size, shuffle=False)"
   ]
  },
  {
   "cell_type": "code",
   "execution_count": 87,
   "id": "4180e3fd",
   "metadata": {},
   "outputs": [
    {
     "data": {
      "text/plain": [
       "(torch.Size([64, 9]), torch.Size([64]))"
      ]
     },
     "execution_count": 87,
     "metadata": {},
     "output_type": "execute_result"
    }
   ],
   "source": [
    "Sample_X = next(iter(dataloader_train))[0]\n",
    "Sample_y = next(iter(dataloader_train))[1]\n",
    "Sample_X.shape, Sample_y.shape"
   ]
  },
  {
   "cell_type": "markdown",
   "id": "7ffa14de",
   "metadata": {},
   "source": [
    "### Model"
   ]
  },
  {
   "cell_type": "code",
   "execution_count": 152,
   "id": "cf62396a",
   "metadata": {},
   "outputs": [],
   "source": [
    "class NeuralNetwork(nn.Module):\n",
    "    def __init__(self, input_size, hidden_size, output_size):\n",
    "        super().__init__()\n",
    "\n",
    "        self.block1 = nn.Linear(input_size, hidden_size)\n",
    "        self.block2 = nn.Linear(hidden_size, output_size)\n",
    "\n",
    "        self.tanh = nn.Tanh()\n",
    "        #self.leakyrelu = nn.LeakyReLU()\n",
    "\n",
    "    def forward(self, X):\n",
    "        z1 = self.block1(X)\n",
    "\n",
    "        a1 = self.tanh(z1)\n",
    "\n",
    "        z2 = self.block2(a1)\n",
    "\n",
    "        return z2\n",
    "\n"
   ]
  },
  {
   "cell_type": "code",
   "execution_count": null,
   "id": "25abf160",
   "metadata": {},
   "outputs": [],
   "source": [
    "input_size = X.shape[1]\n",
    "hidden_size = 10\n",
    "output_size = 1\n",
    "\n",
    "model = NeuralNetwork(input_size, hidden_size, output_size)\n",
    "\n",
    "loss_fn = nn.MSELoss()\n",
    "\n",
    "\n",
    "optimizer = torch.optim.Adam(model.parameters(), lr=0.03)\n",
    "\n",
    "def R_squared(y_true, y_pred):\n",
    "    mean_y_true = np.mean(y_true)\n",
    "    SST = np.sum((y_true - mean_y_true)**2)\n",
    "    SSR = np.sum((y_true - y_pred)**2)\n",
    "    SSE = np.sum((y_pred - mean_y_true)**2)\n",
    "    return 1 - (SSR / SST)\n"
   ]
  },
  {
   "cell_type": "code",
   "execution_count": 162,
   "id": "d516d5ec",
   "metadata": {},
   "outputs": [],
   "source": [
    "epochs = 150\n",
    "train_losses = []\n",
    "val_losses = []\n",
    "val_r2 = []\n",
    "train_r2 = []"
   ]
  },
  {
   "cell_type": "code",
   "execution_count": 163,
   "id": "950553ab",
   "metadata": {},
   "outputs": [
    {
     "name": "stdout",
     "output_type": "stream",
     "text": [
      "[0.5580348968505859, -0.017854899168014526, 0.34849366545677185, 0.32655760645866394, 0.10788720846176147, 0.21914024651050568, 0.1749570369720459, 0.14680111408233643, 0.23930513858795166, 0.2700788080692291, 0.26661843061447144, 0.3775979280471802, -0.08693268895149231, 0.2446708232164383, 0.2521117329597473, 0.13072240352630615, 0.4434163570404053, 0.41850966215133667, 0.6401585936546326, 0.054667770862579346, 0.47271549701690674, 0.23284010589122772, 0.1574951708316803, 0.254927396774292, 0.2029586136341095, 0.4886651337146759, 0.38232046365737915, 0.656967282295227, 0.12507545948028564, 0.21222877502441406, 0.1522916555404663, 0.15710221230983734, 0.1783609837293625, 0.24835261702537537, 0.0429709255695343, 0.18971382081508636, 0.37700456380844116, 0.2480497658252716, 0.20994506776332855, 0.29205751419067383, 0.2701975703239441, 0.3166288137435913, 0.3997679352760315, -0.022697806358337402, 0.4388635456562042, 0.3480324149131775, 0.6779427528381348, 0.106242835521698, 0.18863621354103088, 0.22345730662345886, -0.10672822594642639, 0.0781431794166565, 0.43889325857162476, 0.22334206104278564, 0.33857691287994385, 0.2582775056362152, 0.3803130090236664, -0.04873195290565491, 0.07964426279067993, 0.29109424352645874, 0.6304934024810791, 0.2516292333602905, 0.18781471252441406, 0.2116207778453827]\n"
     ]
    }
   ],
   "source": [
    "for X_train, y_train in dataloader_train:\n",
    "        # Forward pass\n",
    "        z = model(X_train).squeeze().tolist()\n",
    "        print(z)\n",
    "        break"
   ]
  },
  {
   "cell_type": "code",
   "execution_count": 164,
   "id": "73c2aa7e",
   "metadata": {},
   "outputs": [],
   "source": [
    "for epoch in range(epochs):\n",
    "    train_loss = 0\n",
    "    val_loss = 0\n",
    "    train_target = []\n",
    "    val_target = []\n",
    "    train_predict = []\n",
    "    val_predict = []\n",
    "\n",
    "    model.train()\n",
    "    for X_train, y_train in dataloader_train:\n",
    "        \n",
    "        # Forward pass\n",
    "        z = model(X_train).squeeze()\n",
    "        train_predict += z.tolist()\n",
    "        train_target += y_train.tolist()\n",
    "\n",
    "        loss_train = loss_fn(z, y_train)\n",
    "        train_loss += loss_train.item()\n",
    "\n",
    "\n",
    "        optimizer.zero_grad()\n",
    "        loss_train.backward()\n",
    "        optimizer.step()\n",
    "\n",
    "    train_loss = train_loss / len(dataloader_train)\n",
    "\n",
    "    train_losses.append(train_loss)\n",
    "\n",
    "    r2_score = R_squared(np.array(train_target), np.array(train_predict))\n",
    "\n",
    "    train_r2.append(r2_score)\n",
    "\n",
    "    model.eval()\n",
    "    with torch.no_grad():\n",
    "        for X_val, y_val in dataloader_val:\n",
    "            # Forward pass\n",
    "            z_val = model(X_val).squeeze()\n",
    "            val_predict += z_val.tolist()\n",
    "            val_target += y_val.tolist()\n",
    "\n",
    "            loss_val = loss_fn(z_val, y_val)\n",
    "            val_loss += loss_val.item()\n",
    "\n",
    "        val_loss = val_loss / len(dataloader_val)\n",
    "\n",
    "        val_losses.append(val_loss)\n",
    "\n",
    "        r2_score_val = R_squared(np.array(val_target), np.array(val_predict))\n",
    "        val_r2.append(r2_score_val)\n"
   ]
  },
  {
   "cell_type": "code",
   "execution_count": 165,
   "id": "10b2995f",
   "metadata": {},
   "outputs": [
    {
     "data": {
      "image/png": "[encoded data removed]",
      "text/plain": [
       "<Figure size 1200x1000 with 4 Axes>"
      ]
     },
     "metadata": {},
     "output_type": "display_data"
    }
   ],
   "source": [
    "fig, ax = plt.subplots(2, 2, figsize=(12, 10))\n",
    "ax[0, 0].plot(train_losses, color='green')\n",
    "ax[0, 0].set(xlabel='Epoch', ylabel='Loss')\n",
    "ax[0, 0].set_title('Training Loss')\n",
    "\n",
    "ax[0, 1].plot(val_losses, color='orange')\n",
    "ax[0, 1].set(xlabel='Epoch', ylabel='Loss')\n",
    "ax[0, 1].set_title('Validation Loss')\n",
    "\n",
    "ax[1, 0].plot(train_r2, color='green')\n",
    "ax[1, 0].set(xlabel='Epoch', ylabel='R2')\n",
    "ax[1, 0].set_title('Training R2')\n",
    "\n",
    "ax[1, 1].plot(val_r2, color='orange')\n",
    "ax[1, 1].set(xlabel='Epoch', ylabel='R2')\n",
    "ax[1, 1].set_title('Validation R2')\n",
    "\n",
    "plt.show()\n"
   ]
  },
  {
   "cell_type": "markdown",
   "id": "42ea633b",
   "metadata": {},
   "source": [
    "### Evaluation"
   ]
  },
  {
   "cell_type": "code",
   "execution_count": 166,
   "id": "b71b2c98",
   "metadata": {},
   "outputs": [
    {
     "name": "stdout",
     "output_type": "stream",
     "text": [
      "Test Loss: 9.1421, R² Score: 0.7831\n"
     ]
    }
   ],
   "source": [
    "model.eval()\n",
    "with torch.no_grad():\n",
    "    test_predict = []\n",
    "    test_target = []\n",
    "    test_loss = 0\n",
    "    for X_test, y_test in dataloader_test:\n",
    "        # Forward pass\n",
    "        z_test = model(X_test).squeeze()\n",
    "        test_predict += z_test.tolist()\n",
    "        test_target += y_test.tolist()\n",
    "\n",
    "        loss_test = loss_fn(z_test, y_test)\n",
    "        test_loss += loss_test.item()\n",
    "\n",
    "    test_loss = test_loss / len(dataloader_test)\n",
    "\n",
    "    r2_score_test = R_squared(np.array(test_target), np.array(test_predict))\n",
    "\n",
    "    print(f'Test Loss: {test_loss:.4f}, R² Score: {r2_score_test:.4f}')"
   ]
  }
 ],
 "metadata": {
  "kernelspec": {
   "display_name": "my_env",
   "language": "python",
   "name": "python3"
  },
  "language_info": {
   "codemirror_mode": {
    "name": "ipython",
    "version": 3
   },
   "file_extension": ".py",
   "mimetype": "text/x-python",
   "name": "python",
   "nbconvert_exporter": "python",
   "pygments_lexer": "ipython3",
   "version": "3.12.2"
  }
 },
 "nbformat": 4,
 "nbformat_minor": 5
}
